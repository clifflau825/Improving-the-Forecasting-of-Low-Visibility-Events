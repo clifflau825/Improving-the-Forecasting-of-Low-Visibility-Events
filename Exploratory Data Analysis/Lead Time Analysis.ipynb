{
 "cells": [
  {
   "cell_type": "markdown",
   "id": "b21a663f",
   "metadata": {},
   "source": [
    "This is a script analysing the forecast (target) times of forecasts for each lead time."
   ]
  },
  {
   "cell_type": "code",
   "execution_count": 1,
   "id": "7088e335",
   "metadata": {},
   "outputs": [],
   "source": [
    "import numpy as np\n",
    "import xarray as xr\n",
    "import pandas as pd\n",
    "import datetime\n",
    "import matplotlib.pyplot as plt"
   ]
  },
  {
   "cell_type": "code",
   "execution_count": null,
   "id": "ed2394ea",
   "metadata": {},
   "outputs": [],
   "source": [
    "data_path = \"./\""
   ]
  },
  {
   "cell_type": "code",
   "execution_count": 2,
   "id": "8105e8fa",
   "metadata": {},
   "outputs": [
    {
     "name": "stderr",
     "output_type": "stream",
     "text": [
      "/Users/clifflau/opt/anaconda3/lib/python3.8/site-packages/gribapi/__init__.py:23: UserWarning: ecCodes 2.31.0 or higher is recommended. You are running version 2.30.0\n",
      "  warnings.warn(\n"
     ]
    }
   ],
   "source": [
    "vis_forecast_obs = xr.open_dataarray(data_path + \"vis_forecast_observations.nc\")"
   ]
  },
  {
   "cell_type": "code",
   "execution_count": 3,
   "id": "41756eda",
   "metadata": {},
   "outputs": [],
   "source": [
    "lat = np.array(vis_forecast_obs['latitude'])\n",
    "lon = np.array(vis_forecast_obs['longitude'])\n",
    "alt = np.array(vis_forecast_obs['altitude'])\n",
    "base= np.array(vis_forecast_obs['forecast_reference_time'])\n",
    "lead = np.array(vis_forecast_obs['forecast_period'])\n",
    "lead_hr = np.array(lead*10**-9/3600, dtype='int')\n",
    "vis_forecast_obs_array = np.array(vis_forecast_obs)"
   ]
  },
  {
   "cell_type": "code",
   "execution_count": 5,
   "id": "18d14d00",
   "metadata": {},
   "outputs": [],
   "source": [
    "base_df = np.tile(base, len(lat)*len(lead_hr))\n",
    "lead_df = np.repeat(lead, len(base)*len(lat))\n",
    "lead_hr_df = np.repeat(lead_hr, len(base)*len(lat))\n",
    "forecast_time_df = base_df + lead_df\n",
    "vis_forecast_obs_df = vis_forecast_obs_array.flatten()"
   ]
  },
  {
   "cell_type": "code",
   "execution_count": 7,
   "id": "c181e567",
   "metadata": {
    "scrolled": true
   },
   "outputs": [],
   "source": [
    "df = pd.DataFrame({'base': base_df,\n",
    "                   'lead': lead_df,\n",
    "                   'lead_hr': lead_hr_df,\n",
    "                   'forecast_time': forecast_time_df,\n",
    "                   'vis_obs': vis_forecast_obs_df})"
   ]
  },
  {
   "cell_type": "code",
   "execution_count": 8,
   "id": "5e9dc99d",
   "metadata": {},
   "outputs": [],
   "source": [
    "target_hour_set = []\n",
    "for i in np.arange(6,121,6):\n",
    "    target_dt = df[df['lead_hr']==i]['forecast_time']\n",
    "    target_hour = []\n",
    "    for j in target_dt:\n",
    "        target_hour.append(j.hour)\n",
    "    target_hour_set.append(list(set(target_hour)))\n",
    "target_hour_set = np.array(target_hour_set).flatten()\n",
    "target_hour_set"
   ]
  },
  {
   "cell_type": "code",
   "execution_count": 16,
   "id": "c82aa89c",
   "metadata": {},
   "outputs": [
    {
     "data": {
      "text/plain": [
       "Text(0, 0.5, 'Forecast time (hour in day)')"
      ]
     },
     "execution_count": 16,
     "metadata": {},
     "output_type": "execute_result"
    },
    {
     "data": {
      "image/png": "[encoded data removed]",
      "text/plain": [
       "<Figure size 720x360 with 1 Axes>"
      ]
     },
     "metadata": {
      "needs_background": "light"
     },
     "output_type": "display_data"
    }
   ],
   "source": [
    "fig, ax = plt.subplots(figsize=(10,5))\n",
    "ax.plot(np.arange(6,121,6), target_hour_set, 'x')\n",
    "ax.set_yticks([0,6,12,18])\n",
    "ax.set_yticklabels(['00:00','06:00','12:00','18:00'])\n",
    "ax.set_xticks(np.arange(6,121,6))\n",
    "ax.set_title(\"Forecast Times for different Lead Times\")\n",
    "ax.set_xlabel(\"Lead time (hour)\")\n",
    "ax.set_ylabel(\"Forecast time (hour in day)\")"
   ]
  },
  {
   "cell_type": "code",
   "execution_count": null,
   "id": "70a609b9",
   "metadata": {},
   "outputs": [],
   "source": []
  }
 ],
 "metadata": {
  "kernelspec": {
   "display_name": "Python 3",
   "language": "python",
   "name": "python3"
  },
  "language_info": {
   "codemirror_mode": {
    "name": "ipython",
    "version": 3
   },
   "file_extension": ".py",
   "mimetype": "text/x-python",
   "name": "python",
   "nbconvert_exporter": "python",
   "pygments_lexer": "ipython3",
   "version": "3.8.8"
  }
 },
 "nbformat": 4,
 "nbformat_minor": 5
}
