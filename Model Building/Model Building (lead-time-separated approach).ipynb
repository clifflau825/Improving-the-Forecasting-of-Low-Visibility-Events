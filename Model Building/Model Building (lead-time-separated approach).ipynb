{
 "cells": [
  {
   "cell_type": "markdown",
   "id": "c5672b11",
   "metadata": {},
   "source": [
    "This is a script for building models for post-processing NWP visibility forecasts to produce calibrated deterministic forecasts using random forest regression (lead-time-separated approach). Please refer to Section 3.2.2 of the report for information of the lead-time-separated approach."
   ]
  },
  {
   "cell_type": "code",
   "execution_count": 1,
   "id": "7a00bf96",
   "metadata": {},
   "outputs": [
    {
     "name": "stderr",
     "output_type": "stream",
     "text": [
      "/Users/clifflau/opt/anaconda3/lib/python3.8/site-packages/scipy/__init__.py:146: UserWarning: A NumPy version >=1.16.5 and <1.23.0 is required for this version of SciPy (detected version 1.24.4\n",
      "  warnings.warn(f\"A NumPy version >={np_minversion} and <{np_maxversion}\"\n"
     ]
    }
   ],
   "source": [
    "import pandas as pd\n",
    "import matplotlib.pyplot as plt\n",
    "from sklearn.ensemble import RandomForestRegressor\n",
    "import numpy as np\n",
    "import pickle\n",
    "import time"
   ]
  },
  {
   "cell_type": "code",
   "execution_count": 1,
   "id": "21ea67dc",
   "metadata": {},
   "outputs": [],
   "source": [
    "# Change paths for own use\n",
    "data_path = \"ROOT/Data Preprocessings/\"\n",
    "model_export_path = \"ROOT/trained_models/lead_time_separated/\"\n",
    "result_export_path = \"ROOT/test_results_df/lead_time_separated/\""
   ]
  },
  {
   "cell_type": "code",
   "execution_count": 3,
   "id": "f7c03905",
   "metadata": {},
   "outputs": [],
   "source": [
    "# List of input features (using ensemble means and std for visibility foreasts)\n",
    "features = ['lead_hr', 'station_alt', 'dis_from_coast', 'time_in_day', 'day_in_year_sin', 'day_in_year_cos',\n",
    "                    't_ensemble_mean', 't_ensemble_std',\n",
    "                    'q_ensemble_mean', 'q_ensemble_std',\n",
    "                    'tp6_ensemble_mean', 'tp6_ensemble_std',\n",
    "                    'tcc_ensemble_mean', 'tcc_ensemble_std',\n",
    "                    'wind_ensemble_mean', 'wind_ensemble_std',\n",
    "                    'vis_ensemble_mean', 'vis_ensemble_std']"
   ]
  },
  {
   "cell_type": "code",
   "execution_count": 8,
   "id": "0a6ee04a",
   "metadata": {},
   "outputs": [],
   "source": [
    "df_train = pd.read_csv(data_path + \"df_training.csv\", dtype={'time_in_day':'category'})\n",
    "df_valid = pd.read_csv(data_path + \"df_valid.csv\", dtype={'time_in_day':'category'})\n",
    "df_test = pd.read_csv(data_path + \"df_test.csv\", dtype={'time_in_day':'category'})\n",
    "df_baseline = pd.read_csv(data_path + \"df_training_baseline.csv\", dtype={'time_in_day':'category'})"
   ]
  },
  {
   "cell_type": "code",
   "execution_count": 9,
   "id": "f4ec19ae",
   "metadata": {},
   "outputs": [],
   "source": [
    "# Sample 10% of training records for faster training (comment out if necessary)\n",
    "df_train = df_train.sample(frac=0.1, random_state=1)"
   ]
  },
  {
   "cell_type": "code",
   "execution_count": 15,
   "id": "40b51eb2",
   "metadata": {
    "scrolled": true
   },
   "outputs": [
    {
     "name": "stdout",
     "output_type": "stream",
     "text": [
      "Lead 6 completed!\n",
      "Validation RMSE: 14474.521920631723 (execution time: 30.666905879974365 s)\n"
     ]
    },
    {
     "name": "stderr",
     "output_type": "stream",
     "text": [
      "<ipython-input-15-d6ffd600f425>:60: SettingWithCopyWarning: \n",
      "A value is trying to be set on a copy of a slice from a DataFrame.\n",
      "Try using .loc[row_indexer,col_indexer] = value instead\n",
      "\n",
      "See the caveats in the documentation: https://pandas.pydata.org/pandas-docs/stable/user_guide/indexing.html#returning-a-view-versus-a-copy\n",
      "  df_result_test['vis_rf'] = y_pred_test_rf\n",
      "<ipython-input-15-d6ffd600f425>:61: SettingWithCopyWarning: \n",
      "A value is trying to be set on a copy of a slice from a DataFrame.\n",
      "Try using .loc[row_indexer,col_indexer] = value instead\n",
      "\n",
      "See the caveats in the documentation: https://pandas.pydata.org/pandas-docs/stable/user_guide/indexing.html#returning-a-view-versus-a-copy\n",
      "  df_result_test['error_nwp'] = test_error_forecast\n",
      "<ipython-input-15-d6ffd600f425>:62: SettingWithCopyWarning: \n",
      "A value is trying to be set on a copy of a slice from a DataFrame.\n",
      "Try using .loc[row_indexer,col_indexer] = value instead\n",
      "\n",
      "See the caveats in the documentation: https://pandas.pydata.org/pandas-docs/stable/user_guide/indexing.html#returning-a-view-versus-a-copy\n",
      "  df_result_test['error_rf'] = test_error_rf\n"
     ]
    },
    {
     "name": "stdout",
     "output_type": "stream",
     "text": [
      "Lead 12 completed!\n",
      "Validation RMSE: 14378.935527990134 (execution time: 42.79184627532959 s)\n"
     ]
    },
    {
     "name": "stderr",
     "output_type": "stream",
     "text": [
      "<ipython-input-15-d6ffd600f425>:60: SettingWithCopyWarning: \n",
      "A value is trying to be set on a copy of a slice from a DataFrame.\n",
      "Try using .loc[row_indexer,col_indexer] = value instead\n",
      "\n",
      "See the caveats in the documentation: https://pandas.pydata.org/pandas-docs/stable/user_guide/indexing.html#returning-a-view-versus-a-copy\n",
      "  df_result_test['vis_rf'] = y_pred_test_rf\n",
      "<ipython-input-15-d6ffd600f425>:61: SettingWithCopyWarning: \n",
      "A value is trying to be set on a copy of a slice from a DataFrame.\n",
      "Try using .loc[row_indexer,col_indexer] = value instead\n",
      "\n",
      "See the caveats in the documentation: https://pandas.pydata.org/pandas-docs/stable/user_guide/indexing.html#returning-a-view-versus-a-copy\n",
      "  df_result_test['error_nwp'] = test_error_forecast\n",
      "<ipython-input-15-d6ffd600f425>:62: SettingWithCopyWarning: \n",
      "A value is trying to be set on a copy of a slice from a DataFrame.\n",
      "Try using .loc[row_indexer,col_indexer] = value instead\n",
      "\n",
      "See the caveats in the documentation: https://pandas.pydata.org/pandas-docs/stable/user_guide/indexing.html#returning-a-view-versus-a-copy\n",
      "  df_result_test['error_rf'] = test_error_rf\n"
     ]
    },
    {
     "name": "stdout",
     "output_type": "stream",
     "text": [
      "Lead 18 completed!\n",
      "Validation RMSE: 17838.260861046707 (execution time: 29.83226180076599 s)\n"
     ]
    },
    {
     "name": "stderr",
     "output_type": "stream",
     "text": [
      "<ipython-input-15-d6ffd600f425>:60: SettingWithCopyWarning: \n",
      "A value is trying to be set on a copy of a slice from a DataFrame.\n",
      "Try using .loc[row_indexer,col_indexer] = value instead\n",
      "\n",
      "See the caveats in the documentation: https://pandas.pydata.org/pandas-docs/stable/user_guide/indexing.html#returning-a-view-versus-a-copy\n",
      "  df_result_test['vis_rf'] = y_pred_test_rf\n",
      "<ipython-input-15-d6ffd600f425>:61: SettingWithCopyWarning: \n",
      "A value is trying to be set on a copy of a slice from a DataFrame.\n",
      "Try using .loc[row_indexer,col_indexer] = value instead\n",
      "\n",
      "See the caveats in the documentation: https://pandas.pydata.org/pandas-docs/stable/user_guide/indexing.html#returning-a-view-versus-a-copy\n",
      "  df_result_test['error_nwp'] = test_error_forecast\n",
      "<ipython-input-15-d6ffd600f425>:62: SettingWithCopyWarning: \n",
      "A value is trying to be set on a copy of a slice from a DataFrame.\n",
      "Try using .loc[row_indexer,col_indexer] = value instead\n",
      "\n",
      "See the caveats in the documentation: https://pandas.pydata.org/pandas-docs/stable/user_guide/indexing.html#returning-a-view-versus-a-copy\n",
      "  df_result_test['error_rf'] = test_error_rf\n"
     ]
    },
    {
     "name": "stdout",
     "output_type": "stream",
     "text": [
      "Lead 24 completed!\n",
      "Validation RMSE: 15366.55363465383 (execution time: 41.089531898498535 s)\n"
     ]
    },
    {
     "name": "stderr",
     "output_type": "stream",
     "text": [
      "<ipython-input-15-d6ffd600f425>:60: SettingWithCopyWarning: \n",
      "A value is trying to be set on a copy of a slice from a DataFrame.\n",
      "Try using .loc[row_indexer,col_indexer] = value instead\n",
      "\n",
      "See the caveats in the documentation: https://pandas.pydata.org/pandas-docs/stable/user_guide/indexing.html#returning-a-view-versus-a-copy\n",
      "  df_result_test['vis_rf'] = y_pred_test_rf\n",
      "<ipython-input-15-d6ffd600f425>:61: SettingWithCopyWarning: \n",
      "A value is trying to be set on a copy of a slice from a DataFrame.\n",
      "Try using .loc[row_indexer,col_indexer] = value instead\n",
      "\n",
      "See the caveats in the documentation: https://pandas.pydata.org/pandas-docs/stable/user_guide/indexing.html#returning-a-view-versus-a-copy\n",
      "  df_result_test['error_nwp'] = test_error_forecast\n",
      "<ipython-input-15-d6ffd600f425>:62: SettingWithCopyWarning: \n",
      "A value is trying to be set on a copy of a slice from a DataFrame.\n",
      "Try using .loc[row_indexer,col_indexer] = value instead\n",
      "\n",
      "See the caveats in the documentation: https://pandas.pydata.org/pandas-docs/stable/user_guide/indexing.html#returning-a-view-versus-a-copy\n",
      "  df_result_test['error_rf'] = test_error_rf\n"
     ]
    },
    {
     "name": "stdout",
     "output_type": "stream",
     "text": [
      "Lead 30 completed!\n",
      "Validation RMSE: 14410.215895353043 (execution time: 30.3749840259552 s)\n"
     ]
    },
    {
     "name": "stderr",
     "output_type": "stream",
     "text": [
      "<ipython-input-15-d6ffd600f425>:60: SettingWithCopyWarning: \n",
      "A value is trying to be set on a copy of a slice from a DataFrame.\n",
      "Try using .loc[row_indexer,col_indexer] = value instead\n",
      "\n",
      "See the caveats in the documentation: https://pandas.pydata.org/pandas-docs/stable/user_guide/indexing.html#returning-a-view-versus-a-copy\n",
      "  df_result_test['vis_rf'] = y_pred_test_rf\n",
      "<ipython-input-15-d6ffd600f425>:61: SettingWithCopyWarning: \n",
      "A value is trying to be set on a copy of a slice from a DataFrame.\n",
      "Try using .loc[row_indexer,col_indexer] = value instead\n",
      "\n",
      "See the caveats in the documentation: https://pandas.pydata.org/pandas-docs/stable/user_guide/indexing.html#returning-a-view-versus-a-copy\n",
      "  df_result_test['error_nwp'] = test_error_forecast\n",
      "<ipython-input-15-d6ffd600f425>:62: SettingWithCopyWarning: \n",
      "A value is trying to be set on a copy of a slice from a DataFrame.\n",
      "Try using .loc[row_indexer,col_indexer] = value instead\n",
      "\n",
      "See the caveats in the documentation: https://pandas.pydata.org/pandas-docs/stable/user_guide/indexing.html#returning-a-view-versus-a-copy\n",
      "  df_result_test['error_rf'] = test_error_rf\n"
     ]
    },
    {
     "name": "stdout",
     "output_type": "stream",
     "text": [
      "Lead 36 completed!\n",
      "Validation RMSE: 14543.622122100129 (execution time: 42.51774501800537 s)\n"
     ]
    },
    {
     "name": "stderr",
     "output_type": "stream",
     "text": [
      "<ipython-input-15-d6ffd600f425>:60: SettingWithCopyWarning: \n",
      "A value is trying to be set on a copy of a slice from a DataFrame.\n",
      "Try using .loc[row_indexer,col_indexer] = value instead\n",
      "\n",
      "See the caveats in the documentation: https://pandas.pydata.org/pandas-docs/stable/user_guide/indexing.html#returning-a-view-versus-a-copy\n",
      "  df_result_test['vis_rf'] = y_pred_test_rf\n",
      "<ipython-input-15-d6ffd600f425>:61: SettingWithCopyWarning: \n",
      "A value is trying to be set on a copy of a slice from a DataFrame.\n",
      "Try using .loc[row_indexer,col_indexer] = value instead\n",
      "\n",
      "See the caveats in the documentation: https://pandas.pydata.org/pandas-docs/stable/user_guide/indexing.html#returning-a-view-versus-a-copy\n",
      "  df_result_test['error_nwp'] = test_error_forecast\n",
      "<ipython-input-15-d6ffd600f425>:62: SettingWithCopyWarning: \n",
      "A value is trying to be set on a copy of a slice from a DataFrame.\n",
      "Try using .loc[row_indexer,col_indexer] = value instead\n",
      "\n",
      "See the caveats in the documentation: https://pandas.pydata.org/pandas-docs/stable/user_guide/indexing.html#returning-a-view-versus-a-copy\n",
      "  df_result_test['error_rf'] = test_error_rf\n"
     ]
    },
    {
     "name": "stdout",
     "output_type": "stream",
     "text": [
      "Lead 42 completed!\n",
      "Validation RMSE: 17748.953654434674 (execution time: 29.521081924438477 s)\n"
     ]
    },
    {
     "name": "stderr",
     "output_type": "stream",
     "text": [
      "<ipython-input-15-d6ffd600f425>:60: SettingWithCopyWarning: \n",
      "A value is trying to be set on a copy of a slice from a DataFrame.\n",
      "Try using .loc[row_indexer,col_indexer] = value instead\n",
      "\n",
      "See the caveats in the documentation: https://pandas.pydata.org/pandas-docs/stable/user_guide/indexing.html#returning-a-view-versus-a-copy\n",
      "  df_result_test['vis_rf'] = y_pred_test_rf\n",
      "<ipython-input-15-d6ffd600f425>:61: SettingWithCopyWarning: \n",
      "A value is trying to be set on a copy of a slice from a DataFrame.\n",
      "Try using .loc[row_indexer,col_indexer] = value instead\n",
      "\n",
      "See the caveats in the documentation: https://pandas.pydata.org/pandas-docs/stable/user_guide/indexing.html#returning-a-view-versus-a-copy\n",
      "  df_result_test['error_nwp'] = test_error_forecast\n",
      "<ipython-input-15-d6ffd600f425>:62: SettingWithCopyWarning: \n",
      "A value is trying to be set on a copy of a slice from a DataFrame.\n",
      "Try using .loc[row_indexer,col_indexer] = value instead\n",
      "\n",
      "See the caveats in the documentation: https://pandas.pydata.org/pandas-docs/stable/user_guide/indexing.html#returning-a-view-versus-a-copy\n",
      "  df_result_test['error_rf'] = test_error_rf\n"
     ]
    },
    {
     "name": "stdout",
     "output_type": "stream",
     "text": [
      "Lead 48 completed!\n",
      "Validation RMSE: 15544.307540406604 (execution time: 41.61757206916809 s)\n"
     ]
    },
    {
     "name": "stderr",
     "output_type": "stream",
     "text": [
      "<ipython-input-15-d6ffd600f425>:60: SettingWithCopyWarning: \n",
      "A value is trying to be set on a copy of a slice from a DataFrame.\n",
      "Try using .loc[row_indexer,col_indexer] = value instead\n",
      "\n",
      "See the caveats in the documentation: https://pandas.pydata.org/pandas-docs/stable/user_guide/indexing.html#returning-a-view-versus-a-copy\n",
      "  df_result_test['vis_rf'] = y_pred_test_rf\n",
      "<ipython-input-15-d6ffd600f425>:61: SettingWithCopyWarning: \n",
      "A value is trying to be set on a copy of a slice from a DataFrame.\n",
      "Try using .loc[row_indexer,col_indexer] = value instead\n",
      "\n",
      "See the caveats in the documentation: https://pandas.pydata.org/pandas-docs/stable/user_guide/indexing.html#returning-a-view-versus-a-copy\n",
      "  df_result_test['error_nwp'] = test_error_forecast\n",
      "<ipython-input-15-d6ffd600f425>:62: SettingWithCopyWarning: \n",
      "A value is trying to be set on a copy of a slice from a DataFrame.\n",
      "Try using .loc[row_indexer,col_indexer] = value instead\n",
      "\n",
      "See the caveats in the documentation: https://pandas.pydata.org/pandas-docs/stable/user_guide/indexing.html#returning-a-view-versus-a-copy\n",
      "  df_result_test['error_rf'] = test_error_rf\n"
     ]
    },
    {
     "name": "stdout",
     "output_type": "stream",
     "text": [
      "Lead 54 completed!\n",
      "Validation RMSE: 14383.820964353494 (execution time: 30.624019861221313 s)\n"
     ]
    },
    {
     "name": "stderr",
     "output_type": "stream",
     "text": [
      "<ipython-input-15-d6ffd600f425>:60: SettingWithCopyWarning: \n",
      "A value is trying to be set on a copy of a slice from a DataFrame.\n",
      "Try using .loc[row_indexer,col_indexer] = value instead\n",
      "\n",
      "See the caveats in the documentation: https://pandas.pydata.org/pandas-docs/stable/user_guide/indexing.html#returning-a-view-versus-a-copy\n",
      "  df_result_test['vis_rf'] = y_pred_test_rf\n",
      "<ipython-input-15-d6ffd600f425>:61: SettingWithCopyWarning: \n",
      "A value is trying to be set on a copy of a slice from a DataFrame.\n",
      "Try using .loc[row_indexer,col_indexer] = value instead\n",
      "\n",
      "See the caveats in the documentation: https://pandas.pydata.org/pandas-docs/stable/user_guide/indexing.html#returning-a-view-versus-a-copy\n",
      "  df_result_test['error_nwp'] = test_error_forecast\n",
      "<ipython-input-15-d6ffd600f425>:62: SettingWithCopyWarning: \n",
      "A value is trying to be set on a copy of a slice from a DataFrame.\n",
      "Try using .loc[row_indexer,col_indexer] = value instead\n",
      "\n",
      "See the caveats in the documentation: https://pandas.pydata.org/pandas-docs/stable/user_guide/indexing.html#returning-a-view-versus-a-copy\n",
      "  df_result_test['error_rf'] = test_error_rf\n"
     ]
    },
    {
     "name": "stdout",
     "output_type": "stream",
     "text": [
      "Lead 60 completed!\n",
      "Validation RMSE: 14710.003746090064 (execution time: 42.332786083221436 s)\n"
     ]
    },
    {
     "name": "stderr",
     "output_type": "stream",
     "text": [
      "<ipython-input-15-d6ffd600f425>:60: SettingWithCopyWarning: \n",
      "A value is trying to be set on a copy of a slice from a DataFrame.\n",
      "Try using .loc[row_indexer,col_indexer] = value instead\n",
      "\n",
      "See the caveats in the documentation: https://pandas.pydata.org/pandas-docs/stable/user_guide/indexing.html#returning-a-view-versus-a-copy\n",
      "  df_result_test['vis_rf'] = y_pred_test_rf\n",
      "<ipython-input-15-d6ffd600f425>:61: SettingWithCopyWarning: \n",
      "A value is trying to be set on a copy of a slice from a DataFrame.\n",
      "Try using .loc[row_indexer,col_indexer] = value instead\n",
      "\n",
      "See the caveats in the documentation: https://pandas.pydata.org/pandas-docs/stable/user_guide/indexing.html#returning-a-view-versus-a-copy\n",
      "  df_result_test['error_nwp'] = test_error_forecast\n",
      "<ipython-input-15-d6ffd600f425>:62: SettingWithCopyWarning: \n",
      "A value is trying to be set on a copy of a slice from a DataFrame.\n",
      "Try using .loc[row_indexer,col_indexer] = value instead\n",
      "\n",
      "See the caveats in the documentation: https://pandas.pydata.org/pandas-docs/stable/user_guide/indexing.html#returning-a-view-versus-a-copy\n",
      "  df_result_test['error_rf'] = test_error_rf\n"
     ]
    },
    {
     "name": "stdout",
     "output_type": "stream",
     "text": [
      "Lead 66 completed!\n",
      "Validation RMSE: 17712.435381406143 (execution time: 29.532181978225708 s)\n"
     ]
    },
    {
     "name": "stderr",
     "output_type": "stream",
     "text": [
      "<ipython-input-15-d6ffd600f425>:60: SettingWithCopyWarning: \n",
      "A value is trying to be set on a copy of a slice from a DataFrame.\n",
      "Try using .loc[row_indexer,col_indexer] = value instead\n",
      "\n",
      "See the caveats in the documentation: https://pandas.pydata.org/pandas-docs/stable/user_guide/indexing.html#returning-a-view-versus-a-copy\n",
      "  df_result_test['vis_rf'] = y_pred_test_rf\n",
      "<ipython-input-15-d6ffd600f425>:61: SettingWithCopyWarning: \n",
      "A value is trying to be set on a copy of a slice from a DataFrame.\n",
      "Try using .loc[row_indexer,col_indexer] = value instead\n",
      "\n",
      "See the caveats in the documentation: https://pandas.pydata.org/pandas-docs/stable/user_guide/indexing.html#returning-a-view-versus-a-copy\n",
      "  df_result_test['error_nwp'] = test_error_forecast\n",
      "<ipython-input-15-d6ffd600f425>:62: SettingWithCopyWarning: \n",
      "A value is trying to be set on a copy of a slice from a DataFrame.\n",
      "Try using .loc[row_indexer,col_indexer] = value instead\n",
      "\n",
      "See the caveats in the documentation: https://pandas.pydata.org/pandas-docs/stable/user_guide/indexing.html#returning-a-view-versus-a-copy\n",
      "  df_result_test['error_rf'] = test_error_rf\n"
     ]
    },
    {
     "name": "stdout",
     "output_type": "stream",
     "text": [
      "Lead 72 completed!\n",
      "Validation RMSE: 15920.477868166838 (execution time: 41.452664852142334 s)\n"
     ]
    },
    {
     "name": "stderr",
     "output_type": "stream",
     "text": [
      "<ipython-input-15-d6ffd600f425>:60: SettingWithCopyWarning: \n",
      "A value is trying to be set on a copy of a slice from a DataFrame.\n",
      "Try using .loc[row_indexer,col_indexer] = value instead\n",
      "\n",
      "See the caveats in the documentation: https://pandas.pydata.org/pandas-docs/stable/user_guide/indexing.html#returning-a-view-versus-a-copy\n",
      "  df_result_test['vis_rf'] = y_pred_test_rf\n",
      "<ipython-input-15-d6ffd600f425>:61: SettingWithCopyWarning: \n",
      "A value is trying to be set on a copy of a slice from a DataFrame.\n",
      "Try using .loc[row_indexer,col_indexer] = value instead\n",
      "\n",
      "See the caveats in the documentation: https://pandas.pydata.org/pandas-docs/stable/user_guide/indexing.html#returning-a-view-versus-a-copy\n",
      "  df_result_test['error_nwp'] = test_error_forecast\n",
      "<ipython-input-15-d6ffd600f425>:62: SettingWithCopyWarning: \n",
      "A value is trying to be set on a copy of a slice from a DataFrame.\n",
      "Try using .loc[row_indexer,col_indexer] = value instead\n",
      "\n",
      "See the caveats in the documentation: https://pandas.pydata.org/pandas-docs/stable/user_guide/indexing.html#returning-a-view-versus-a-copy\n",
      "  df_result_test['error_rf'] = test_error_rf\n"
     ]
    },
    {
     "name": "stdout",
     "output_type": "stream",
     "text": [
      "Lead 78 completed!\n",
      "Validation RMSE: 14439.268262140784 (execution time: 30.739094018936157 s)\n"
     ]
    },
    {
     "name": "stderr",
     "output_type": "stream",
     "text": [
      "<ipython-input-15-d6ffd600f425>:60: SettingWithCopyWarning: \n",
      "A value is trying to be set on a copy of a slice from a DataFrame.\n",
      "Try using .loc[row_indexer,col_indexer] = value instead\n",
      "\n",
      "See the caveats in the documentation: https://pandas.pydata.org/pandas-docs/stable/user_guide/indexing.html#returning-a-view-versus-a-copy\n",
      "  df_result_test['vis_rf'] = y_pred_test_rf\n",
      "<ipython-input-15-d6ffd600f425>:61: SettingWithCopyWarning: \n",
      "A value is trying to be set on a copy of a slice from a DataFrame.\n",
      "Try using .loc[row_indexer,col_indexer] = value instead\n",
      "\n",
      "See the caveats in the documentation: https://pandas.pydata.org/pandas-docs/stable/user_guide/indexing.html#returning-a-view-versus-a-copy\n",
      "  df_result_test['error_nwp'] = test_error_forecast\n",
      "<ipython-input-15-d6ffd600f425>:62: SettingWithCopyWarning: \n",
      "A value is trying to be set on a copy of a slice from a DataFrame.\n",
      "Try using .loc[row_indexer,col_indexer] = value instead\n",
      "\n",
      "See the caveats in the documentation: https://pandas.pydata.org/pandas-docs/stable/user_guide/indexing.html#returning-a-view-versus-a-copy\n",
      "  df_result_test['error_rf'] = test_error_rf\n"
     ]
    },
    {
     "name": "stdout",
     "output_type": "stream",
     "text": [
      "Lead 84 completed!\n",
      "Validation RMSE: 14782.328686136172 (execution time: 42.437514305114746 s)\n"
     ]
    },
    {
     "name": "stderr",
     "output_type": "stream",
     "text": [
      "<ipython-input-15-d6ffd600f425>:60: SettingWithCopyWarning: \n",
      "A value is trying to be set on a copy of a slice from a DataFrame.\n",
      "Try using .loc[row_indexer,col_indexer] = value instead\n",
      "\n",
      "See the caveats in the documentation: https://pandas.pydata.org/pandas-docs/stable/user_guide/indexing.html#returning-a-view-versus-a-copy\n",
      "  df_result_test['vis_rf'] = y_pred_test_rf\n",
      "<ipython-input-15-d6ffd600f425>:61: SettingWithCopyWarning: \n",
      "A value is trying to be set on a copy of a slice from a DataFrame.\n",
      "Try using .loc[row_indexer,col_indexer] = value instead\n",
      "\n",
      "See the caveats in the documentation: https://pandas.pydata.org/pandas-docs/stable/user_guide/indexing.html#returning-a-view-versus-a-copy\n",
      "  df_result_test['error_nwp'] = test_error_forecast\n",
      "<ipython-input-15-d6ffd600f425>:62: SettingWithCopyWarning: \n",
      "A value is trying to be set on a copy of a slice from a DataFrame.\n",
      "Try using .loc[row_indexer,col_indexer] = value instead\n",
      "\n",
      "See the caveats in the documentation: https://pandas.pydata.org/pandas-docs/stable/user_guide/indexing.html#returning-a-view-versus-a-copy\n",
      "  df_result_test['error_rf'] = test_error_rf\n"
     ]
    },
    {
     "name": "stdout",
     "output_type": "stream",
     "text": [
      "Lead 90 completed!\n",
      "Validation RMSE: 17652.645989918048 (execution time: 29.749735116958618 s)\n"
     ]
    },
    {
     "name": "stderr",
     "output_type": "stream",
     "text": [
      "<ipython-input-15-d6ffd600f425>:60: SettingWithCopyWarning: \n",
      "A value is trying to be set on a copy of a slice from a DataFrame.\n",
      "Try using .loc[row_indexer,col_indexer] = value instead\n",
      "\n",
      "See the caveats in the documentation: https://pandas.pydata.org/pandas-docs/stable/user_guide/indexing.html#returning-a-view-versus-a-copy\n",
      "  df_result_test['vis_rf'] = y_pred_test_rf\n",
      "<ipython-input-15-d6ffd600f425>:61: SettingWithCopyWarning: \n",
      "A value is trying to be set on a copy of a slice from a DataFrame.\n",
      "Try using .loc[row_indexer,col_indexer] = value instead\n",
      "\n",
      "See the caveats in the documentation: https://pandas.pydata.org/pandas-docs/stable/user_guide/indexing.html#returning-a-view-versus-a-copy\n",
      "  df_result_test['error_nwp'] = test_error_forecast\n",
      "<ipython-input-15-d6ffd600f425>:62: SettingWithCopyWarning: \n",
      "A value is trying to be set on a copy of a slice from a DataFrame.\n",
      "Try using .loc[row_indexer,col_indexer] = value instead\n",
      "\n",
      "See the caveats in the documentation: https://pandas.pydata.org/pandas-docs/stable/user_guide/indexing.html#returning-a-view-versus-a-copy\n",
      "  df_result_test['error_rf'] = test_error_rf\n"
     ]
    },
    {
     "name": "stdout",
     "output_type": "stream",
     "text": [
      "Lead 96 completed!\n",
      "Validation RMSE: 16009.534432799692 (execution time: 42.65904903411865 s)\n"
     ]
    },
    {
     "name": "stderr",
     "output_type": "stream",
     "text": [
      "<ipython-input-15-d6ffd600f425>:60: SettingWithCopyWarning: \n",
      "A value is trying to be set on a copy of a slice from a DataFrame.\n",
      "Try using .loc[row_indexer,col_indexer] = value instead\n",
      "\n",
      "See the caveats in the documentation: https://pandas.pydata.org/pandas-docs/stable/user_guide/indexing.html#returning-a-view-versus-a-copy\n",
      "  df_result_test['vis_rf'] = y_pred_test_rf\n",
      "<ipython-input-15-d6ffd600f425>:61: SettingWithCopyWarning: \n",
      "A value is trying to be set on a copy of a slice from a DataFrame.\n",
      "Try using .loc[row_indexer,col_indexer] = value instead\n",
      "\n",
      "See the caveats in the documentation: https://pandas.pydata.org/pandas-docs/stable/user_guide/indexing.html#returning-a-view-versus-a-copy\n",
      "  df_result_test['error_nwp'] = test_error_forecast\n",
      "<ipython-input-15-d6ffd600f425>:62: SettingWithCopyWarning: \n",
      "A value is trying to be set on a copy of a slice from a DataFrame.\n",
      "Try using .loc[row_indexer,col_indexer] = value instead\n",
      "\n",
      "See the caveats in the documentation: https://pandas.pydata.org/pandas-docs/stable/user_guide/indexing.html#returning-a-view-versus-a-copy\n",
      "  df_result_test['error_rf'] = test_error_rf\n"
     ]
    },
    {
     "name": "stdout",
     "output_type": "stream",
     "text": [
      "Lead 102 completed!\n",
      "Validation RMSE: 14739.26130937349 (execution time: 30.744615077972412 s)\n"
     ]
    },
    {
     "name": "stderr",
     "output_type": "stream",
     "text": [
      "<ipython-input-15-d6ffd600f425>:60: SettingWithCopyWarning: \n",
      "A value is trying to be set on a copy of a slice from a DataFrame.\n",
      "Try using .loc[row_indexer,col_indexer] = value instead\n",
      "\n",
      "See the caveats in the documentation: https://pandas.pydata.org/pandas-docs/stable/user_guide/indexing.html#returning-a-view-versus-a-copy\n",
      "  df_result_test['vis_rf'] = y_pred_test_rf\n",
      "<ipython-input-15-d6ffd600f425>:61: SettingWithCopyWarning: \n",
      "A value is trying to be set on a copy of a slice from a DataFrame.\n",
      "Try using .loc[row_indexer,col_indexer] = value instead\n",
      "\n",
      "See the caveats in the documentation: https://pandas.pydata.org/pandas-docs/stable/user_guide/indexing.html#returning-a-view-versus-a-copy\n",
      "  df_result_test['error_nwp'] = test_error_forecast\n",
      "<ipython-input-15-d6ffd600f425>:62: SettingWithCopyWarning: \n",
      "A value is trying to be set on a copy of a slice from a DataFrame.\n",
      "Try using .loc[row_indexer,col_indexer] = value instead\n",
      "\n",
      "See the caveats in the documentation: https://pandas.pydata.org/pandas-docs/stable/user_guide/indexing.html#returning-a-view-versus-a-copy\n",
      "  df_result_test['error_rf'] = test_error_rf\n"
     ]
    },
    {
     "name": "stdout",
     "output_type": "stream",
     "text": [
      "Lead 108 completed!\n",
      "Validation RMSE: 14969.616897565416 (execution time: 42.79734969139099 s)\n"
     ]
    },
    {
     "name": "stderr",
     "output_type": "stream",
     "text": [
      "<ipython-input-15-d6ffd600f425>:60: SettingWithCopyWarning: \n",
      "A value is trying to be set on a copy of a slice from a DataFrame.\n",
      "Try using .loc[row_indexer,col_indexer] = value instead\n",
      "\n",
      "See the caveats in the documentation: https://pandas.pydata.org/pandas-docs/stable/user_guide/indexing.html#returning-a-view-versus-a-copy\n",
      "  df_result_test['vis_rf'] = y_pred_test_rf\n",
      "<ipython-input-15-d6ffd600f425>:61: SettingWithCopyWarning: \n",
      "A value is trying to be set on a copy of a slice from a DataFrame.\n",
      "Try using .loc[row_indexer,col_indexer] = value instead\n",
      "\n",
      "See the caveats in the documentation: https://pandas.pydata.org/pandas-docs/stable/user_guide/indexing.html#returning-a-view-versus-a-copy\n",
      "  df_result_test['error_nwp'] = test_error_forecast\n",
      "<ipython-input-15-d6ffd600f425>:62: SettingWithCopyWarning: \n",
      "A value is trying to be set on a copy of a slice from a DataFrame.\n",
      "Try using .loc[row_indexer,col_indexer] = value instead\n",
      "\n",
      "See the caveats in the documentation: https://pandas.pydata.org/pandas-docs/stable/user_guide/indexing.html#returning-a-view-versus-a-copy\n",
      "  df_result_test['error_rf'] = test_error_rf\n"
     ]
    },
    {
     "name": "stdout",
     "output_type": "stream",
     "text": [
      "Lead 114 completed!\n",
      "Validation RMSE: 17942.453144462983 (execution time: 29.588733911514282 s)\n"
     ]
    },
    {
     "name": "stderr",
     "output_type": "stream",
     "text": [
      "<ipython-input-15-d6ffd600f425>:60: SettingWithCopyWarning: \n",
      "A value is trying to be set on a copy of a slice from a DataFrame.\n",
      "Try using .loc[row_indexer,col_indexer] = value instead\n",
      "\n",
      "See the caveats in the documentation: https://pandas.pydata.org/pandas-docs/stable/user_guide/indexing.html#returning-a-view-versus-a-copy\n",
      "  df_result_test['vis_rf'] = y_pred_test_rf\n",
      "<ipython-input-15-d6ffd600f425>:61: SettingWithCopyWarning: \n",
      "A value is trying to be set on a copy of a slice from a DataFrame.\n",
      "Try using .loc[row_indexer,col_indexer] = value instead\n",
      "\n",
      "See the caveats in the documentation: https://pandas.pydata.org/pandas-docs/stable/user_guide/indexing.html#returning-a-view-versus-a-copy\n",
      "  df_result_test['error_nwp'] = test_error_forecast\n",
      "<ipython-input-15-d6ffd600f425>:62: SettingWithCopyWarning: \n",
      "A value is trying to be set on a copy of a slice from a DataFrame.\n",
      "Try using .loc[row_indexer,col_indexer] = value instead\n",
      "\n",
      "See the caveats in the documentation: https://pandas.pydata.org/pandas-docs/stable/user_guide/indexing.html#returning-a-view-versus-a-copy\n",
      "  df_result_test['error_rf'] = test_error_rf\n"
     ]
    },
    {
     "name": "stdout",
     "output_type": "stream",
     "text": [
      "Lead 120 completed!\n",
      "Validation RMSE: 16259.089793656813 (execution time: 41.87837600708008 s)\n"
     ]
    },
    {
     "name": "stderr",
     "output_type": "stream",
     "text": [
      "<ipython-input-15-d6ffd600f425>:60: SettingWithCopyWarning: \n",
      "A value is trying to be set on a copy of a slice from a DataFrame.\n",
      "Try using .loc[row_indexer,col_indexer] = value instead\n",
      "\n",
      "See the caveats in the documentation: https://pandas.pydata.org/pandas-docs/stable/user_guide/indexing.html#returning-a-view-versus-a-copy\n",
      "  df_result_test['vis_rf'] = y_pred_test_rf\n",
      "<ipython-input-15-d6ffd600f425>:61: SettingWithCopyWarning: \n",
      "A value is trying to be set on a copy of a slice from a DataFrame.\n",
      "Try using .loc[row_indexer,col_indexer] = value instead\n",
      "\n",
      "See the caveats in the documentation: https://pandas.pydata.org/pandas-docs/stable/user_guide/indexing.html#returning-a-view-versus-a-copy\n",
      "  df_result_test['error_nwp'] = test_error_forecast\n",
      "<ipython-input-15-d6ffd600f425>:62: SettingWithCopyWarning: \n",
      "A value is trying to be set on a copy of a slice from a DataFrame.\n",
      "Try using .loc[row_indexer,col_indexer] = value instead\n",
      "\n",
      "See the caveats in the documentation: https://pandas.pydata.org/pandas-docs/stable/user_guide/indexing.html#returning-a-view-versus-a-copy\n",
      "  df_result_test['error_rf'] = test_error_rf\n"
     ]
    }
   ],
   "source": [
    "for lead in np.arange(6,121,6):\n",
    "    \n",
    "    df_train_lead = df_train[df_train['lead_hr']==lead]\n",
    "    df_valid_lead = df_valid[df_valid['lead_hr']==lead]\n",
    "    df_test_lead = df_test[df_test['lead_hr']==lead]\n",
    "    \n",
    "    x_train = df_train_lead[features]\n",
    "    y_train = df_train_lead['vis_obs']\n",
    "    #y_train = np.log(df_train['vis_obs']+0.00001) # Log transformation (uncomment for transformation of output)\n",
    "\n",
    "    x_valid = df_valid_lead[features]\n",
    "    y_valid = df_valid_lead['vis_obs']\n",
    "    #y_valid = df_valid['vis_obs']+0.00001 # Log transformation (uncomment for transformation of output)\n",
    "\n",
    "    x_test = df_test_lead[features]\n",
    "    y_test = df_test_lead['vis_obs']\n",
    "    #y_valid = df_valid['vis_obs']+0.00001 # Log transformation (uncomment for transformation of output)\n",
    "\n",
    "    # One-hot encode categorical 'time_in_day'\n",
    "    x_train = x_train.join(pd.get_dummies(x_train['time_in_day']))\n",
    "    x_train = x_train.drop('time_in_day',axis=1)\n",
    "    x_valid = x_valid.join(pd.get_dummies(x_valid['time_in_day']))\n",
    "    x_valid = x_valid.drop('time_in_day',axis=1)\n",
    "    x_test = x_test.join(pd.get_dummies(x_test['time_in_day']))\n",
    "    x_test = x_test.drop('time_in_day',axis=1)\n",
    "    \n",
    "    st = time.time()\n",
    "\n",
    "    rf = RandomForestRegressor(n_estimators=100, max_depth=20, random_state=18)\n",
    "    rf.fit(x_train, y_train)\n",
    "    \n",
    "    # Save the models\n",
    "    with open(model_path + 'lead'+str(lead)+'_20_100.pkl','wb') as f:\n",
    "        pickle.dump(rf,f)\n",
    "\n",
    "    y_pred_valid_rf = rf.predict(x_valid)\n",
    "    #y_pred_valid_rf = np.exp(rf.predict(x_valid)) # Log transformation (uncomment for transformation of output)\n",
    "    valid_error_rf = np.array(y_valid) - y_pred_valid_rf\n",
    "\n",
    "    valid_rmse_rf = np.sqrt(np.mean(valid_error_rf**2))\n",
    "        \n",
    "    et = time.time()\n",
    "    elapsed_time = et - st\n",
    "    \n",
    "    print(\"Lead \"+str(lead)+\" completed!\")\n",
    "    print(\"Validation RMSE: %s (execution time: %s s)\"%(valid_rmse_rf, elapsed_time))\n",
    "    \n",
    "    # Test errors of NWP forecasts (before post-processing)\n",
    "    test_error_forecast = np.array(y_test)-np.array(df_test_lead['vis_ensemble_mean'])\n",
    "    \n",
    "    # Test error of post-processed forecasts\n",
    "    y_pred_test_rf = rf.predict(x_test)\n",
    "    #y_pred_test_rf = np.exp(rf.predict(x_test)) # Log transformation (uncomment for transformation of output)\n",
    "    test_error_rf = np.array(y_test)-y_pred_test_rf\n",
    "    \n",
    "    # Create a dataframe for storing test results\n",
    "    df_result_test = df_test_lead[['base', 'lead_hr', 'forecast_time', 'time_in_day', 'vis_obs', 'vis_ensemble_mean']]\n",
    "    df_result_test['vis_rf'] = y_pred_test_rf\n",
    "    df_result_test['error_nwp'] = test_error_forecast\n",
    "    df_result_test['error_rf'] = test_error_rf\n",
    "    df_result_test.to_csv(result_export_path + 'results_lead'+str(lead)+\"_20_100.csv\", index=False)\n",
    "    # File format: results_lead[lead time]_[max_depth]_[n_estimators].csv"
   ]
  },
  {
   "cell_type": "code",
   "execution_count": null,
   "id": "d665c214",
   "metadata": {},
   "outputs": [],
   "source": []
  }
 ],
 "metadata": {
  "kernelspec": {
   "display_name": "Python 3",
   "language": "python",
   "name": "python3"
  },
  "language_info": {
   "codemirror_mode": {
    "name": "ipython",
    "version": 3
   },
   "file_extension": ".py",
   "mimetype": "text/x-python",
   "name": "python",
   "nbconvert_exporter": "python",
   "pygments_lexer": "ipython3",
   "version": "3.8.8"
  }
 },
 "nbformat": 4,
 "nbformat_minor": 5
}
