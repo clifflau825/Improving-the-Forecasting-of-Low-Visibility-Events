{
 "cells": [
  {
   "cell_type": "markdown",
   "id": "c5672b11",
   "metadata": {},
   "source": [
    "This is a script for building models for post-processing NWP visibility forecasts to produce calibrated ensemble forecasts using quantile regression forest applying the lead-time-continuous approach."
   ]
  },
  {
   "cell_type": "code",
   "execution_count": 1,
   "id": "7a00bf96",
   "metadata": {},
   "outputs": [
    {
     "name": "stderr",
     "output_type": "stream",
     "text": [
      "/Users/clifflau/opt/anaconda3/lib/python3.8/site-packages/scipy/__init__.py:146: UserWarning: A NumPy version >=1.16.5 and <1.23.0 is required for this version of SciPy (detected version 1.24.4\n",
      "  warnings.warn(f\"A NumPy version >={np_minversion} and <{np_maxversion}\"\n"
     ]
    }
   ],
   "source": [
    "import pandas as pd\n",
    "import matplotlib.pyplot as plt\n",
    "from sklearn.ensemble import RandomForestRegressor\n",
    "from quantile_forest import RandomForestQuantileRegressor\n",
    "import numpy as np\n",
    "import pickle\n",
    "import time"
   ]
  },
  {
   "cell_type": "code",
   "execution_count": 2,
   "id": "21ea67dc",
   "metadata": {},
   "outputs": [],
   "source": [
    "# Change paths for own use\n",
    "data_path = \"ROOT/preprocessed_data/\"\n",
    "model_export_path = \"ROOT/trained_models/lead_time_continuous/\"\n",
    "result_export_path = \"ROOT/test_results_df/lead_time_continuous/\""
   ]
  },
  {
   "cell_type": "code",
   "execution_count": 3,
   "id": "3b7eae1c",
   "metadata": {},
   "outputs": [],
   "source": [
    "df_train = pd.read_csv(data_path + \"df_training.csv\", dtype={'time_in_day':'category'})\n",
    "df_valid = pd.read_csv(data_path + \"df_valid.csv\", dtype={'time_in_day':'category'})\n",
    "df_test = pd.read_csv(data_path + \"df_test.csv\", dtype={'time_in_day':'category'})\n",
    "df_baseline = pd.read_csv(data_path + \"df_training_baseline.csv\", dtype={'time_in_day':'category'})"
   ]
  },
  {
   "cell_type": "code",
   "execution_count": 4,
   "id": "32e784b1",
   "metadata": {},
   "outputs": [],
   "source": [
    "# Sample 10% of training records for faster training (comment out if necessary)\n",
    "df_train = df_train.sample(frac=0.1, random_state=1)"
   ]
  },
  {
   "cell_type": "code",
   "execution_count": 10,
   "id": "e3a390fd",
   "metadata": {
    "scrolled": false
   },
   "outputs": [],
   "source": [
    "# List of input features (using ensemble means and std for visibility foreasts)\n",
    "features = ['lead_hr', 'station_alt', 'dis_from_coast', 'time_in_day', 'day_in_year_sin', 'day_in_year_cos',\n",
    "                    't_ensemble_mean', 't_ensemble_std',\n",
    "                    'q_ensemble_mean', 'q_ensemble_std',\n",
    "                    'tp6_ensemble_mean', 'tp6_ensemble_std',\n",
    "                    'tcc_ensemble_mean', 'tcc_ensemble_std',\n",
    "                    'wind_ensemble_mean', 'wind_ensemble_std',\n",
    "                    'vis_ensemble_mean', 'vis_ensemble_std']\n",
    "\n",
    "x_train = df_train[features]\n",
    "y_train = df_train['vis_obs']\n",
    "#y_train = np.log(df_train['vis_obs']+0.00001) # Log transformation (uncomment for transformation of output)\n",
    "\n",
    "x_valid = df_valid[features]\n",
    "#y_valid = df_valid['vis_obs']+0.00001 # Log transformation (uncomment for transformation of output)\n",
    "\n",
    "x_test = df_test[features]\n",
    "#y_test = df_test['vis_obs']+0.00001 # Log transformation (uncomment for transformation of output)\n",
    "\n",
    "# One-hot encode categorical 'time_in_day'\n",
    "x_train = x_train.join(pd.get_dummies(x_train['time_in_day']))\n",
    "x_train = x_train.drop('time_in_day',axis=1)\n",
    "x_valid = x_valid.join(pd.get_dummies(x_valid['time_in_day']))\n",
    "x_valid = x_valid.drop('time_in_day',axis=1)\n",
    "x_test = x_test.join(pd.get_dummies(x_test['time_in_day']))\n",
    "x_test = x_test.drop('time_in_day',axis=1)"
   ]
  },
  {
   "cell_type": "code",
   "execution_count": 11,
   "id": "d2ea6bae",
   "metadata": {
    "scrolled": true
   },
   "outputs": [
    {
     "data": {
      "text/plain": [
       "((615077, 21), (650999, 21), (647208, 21))"
      ]
     },
     "execution_count": 11,
     "metadata": {},
     "output_type": "execute_result"
    }
   ],
   "source": [
    "x_train.shape, x_valid.shape, x_test.shape"
   ]
  },
  {
   "cell_type": "code",
   "execution_count": 12,
   "id": "a77f5b72",
   "metadata": {},
   "outputs": [
    {
     "data": {
      "text/plain": [
       "Index(['lead_hr', 'station_alt', 'dis_from_coast', 'day_in_year_sin',\n",
       "       'day_in_year_cos', 't_ensemble_mean', 't_ensemble_std',\n",
       "       'q_ensemble_mean', 'q_ensemble_std', 'tp6_ensemble_mean',\n",
       "       'tp6_ensemble_std', 'tcc_ensemble_mean', 'tcc_ensemble_std',\n",
       "       'wind_ensemble_mean', 'wind_ensemble_std', 'vis_ensemble_mean',\n",
       "       'vis_ensemble_std', '06', '12', '18', '00'],\n",
       "      dtype='object')"
      ]
     },
     "execution_count": 12,
     "metadata": {},
     "output_type": "execute_result"
    }
   ],
   "source": [
    "x_train.columns"
   ]
  },
  {
   "cell_type": "code",
   "execution_count": 15,
   "id": "bb030742",
   "metadata": {},
   "outputs": [
    {
     "name": "stderr",
     "output_type": "stream",
     "text": [
      "/Users/clifflau/opt/anaconda3/lib/python3.8/site-packages/sklearn/base.py:458: UserWarning: X has feature names, but RandomForestQuantileRegressor was fitted without feature names\n",
      "  warnings.warn(\n"
     ]
    },
    {
     "name": "stdout",
     "output_type": "stream",
     "text": [
      "Validation RMSE: 17236.786612588683 (execution time: 3274.3774993419647 s)\n"
     ]
    }
   ],
   "source": [
    "st = time.time()\n",
    "\n",
    "rf = RandomForestQuantileRegressor(n_estimators=300, max_depth=20, random_state=18)\n",
    "rf.fit(x_train, y_train)\n",
    "\n",
    "# Save the model\n",
    "with open(model_export_path + 'giant_300_20_quantile.pkl','wb') as f:\n",
    "    pickle.dump(rf,f)\n",
    "\n",
    "#y_pred_valid_rf = rf.predict(x_valid, quantiles=[0.5])\n",
    "y_pred_valid_rf = np.exp(rf.predict(x_valid, quantiles=[0.5])) # Log transformation  (uncomment for transformation of output)\n",
    "valid_error_rf = np.array(y_valid) - y_pred_valid_rf\n",
    "\n",
    "valid_rmse_rf = np.sqrt(np.mean(valid_error_rf**2))\n",
    "        \n",
    "et = time.time()\n",
    "elapsed_time = et - st\n",
    "\n",
    "print(\"Validation RMSE: %s (execution time: %s s)\"%(valid_rmse_rf, elapsed_time))"
   ]
  },
  {
   "cell_type": "code",
   "execution_count": 13,
   "id": "a5e232eb",
   "metadata": {},
   "outputs": [],
   "source": [
    "# Open previously trained model\n",
    "#with open(model_path + 'giant_300_20_quantile_log.pkl', 'rb') as f:\n",
    "    #rf = pickle.load(f)"
   ]
  },
  {
   "cell_type": "code",
   "execution_count": 14,
   "id": "b78cccc5",
   "metadata": {},
   "outputs": [
    {
     "data": {
      "text/plain": [
       "Text(0.5, 1.0, 'Features Importances from RF')"
      ]
     },
     "execution_count": 14,
     "metadata": {},
     "output_type": "execute_result"
    },
    {
     "data": {
      "image/png": "[encoded data removed]",
      "text/plain": [
       "<Figure size 1080x576 with 1 Axes>"
      ]
     },
     "metadata": {
      "needs_background": "light"
     },
     "output_type": "display_data"
    }
   ],
   "source": [
    "# Feature importance\n",
    "plt.figure(figsize=(15,8))\n",
    "importances = rf.feature_importances_\n",
    "features = x_train.columns\n",
    "indices = np.argsort(importances)\n",
    "plt.barh(np.arange(len(features)), importances[indices], height=0.5)\n",
    "plt.yticks(np.arange(len(features)), features[indices])\n",
    "plt.ylabel(\"Features\")\n",
    "plt.xlabel(\"Relative Importances\")\n",
    "plt.title(\"Features Importances from RF\")"
   ]
  },
  {
   "cell_type": "code",
   "execution_count": 15,
   "id": "e9f4a400",
   "metadata": {},
   "outputs": [],
   "source": [
    "# Test errors of NWP forecasts (before post-processing)\n",
    "test_error_forecast = np.array(y_test)-np.array(df_test['vis_ensemble_mean'])"
   ]
  },
  {
   "cell_type": "code",
   "execution_count": 21,
   "id": "5197ca3b",
   "metadata": {},
   "outputs": [
    {
     "name": "stderr",
     "output_type": "stream",
     "text": [
      "/Users/clifflau/opt/anaconda3/lib/python3.8/site-packages/sklearn/base.py:458: UserWarning: X has feature names, but RandomForestQuantileRegressor was fitted without feature names\n",
      "  warnings.warn(\n"
     ]
    },
    {
     "data": {
      "text/plain": [
       "'y_pred_test_rf = np.exp(rf.predict(x_test, quantiles=quantile_candidates))'"
      ]
     },
     "execution_count": 21,
     "metadata": {},
     "output_type": "execute_result"
    }
   ],
   "source": [
    "# Post-processed forecasts\n",
    "quantile_candidates = [0.05 , 0.068, 0.086, 0.104, 0.122, 0.14 , 0.158, 0.176, 0.194,\n",
    "       0.212, 0.23 , 0.248, 0.266, 0.284, 0.302, 0.32 , 0.338, 0.356,\n",
    "       0.374, 0.392, 0.41 , 0.428, 0.446, 0.464, 0.482, 0.5  , 0.518,\n",
    "       0.536, 0.554, 0.572, 0.59 , 0.608, 0.626, 0.644, 0.662, 0.68 ,\n",
    "       0.698, 0.716, 0.734, 0.752, 0.77 , 0.788, 0.806, 0.824, 0.842,\n",
    "       0.86 , 0.878, 0.896, 0.914, 0.932, 0.95]\n",
    "y_pred_test_rf = rf.predict(x_test, quantiles=quantile_candidates)\n",
    "#y_pred_test_rf = np.exp(rf.predict(x_test, quantiles=quantile_candidates)) # log transformation (uncomment for transformation of output)"
   ]
  },
  {
   "cell_type": "code",
   "execution_count": 45,
   "id": "1b89d438",
   "metadata": {},
   "outputs": [
    {
     "data": {
      "text/plain": [
       "\"baseline_by_forecast_time = []\\nfor i in ['00','06','12','18']:\\n    baseline_by_forecast_time.append(np.exp(np.mean(np.log(df_baseline[df_baseline['time_in_day']==i]['vis_obs']+0.00001))))\\n\\ny_pred_test_baseline = np.array([0]*len(y_test))\\nfor i in range(len(y_test)):\\n    if df_test['time_in_day'][i]=='00':\\n        y_pred_test_baseline[i] = baseline_by_forecast_time[0]\\n    elif df_test['time_in_day'][i]=='06':\\n        y_pred_test_baseline[i] = baseline_by_forecast_time[1]\\n    elif df_test['time_in_day'][i]=='12':\\n        y_pred_test_baseline[i] = baseline_by_forecast_time[2]\\n    elif df_test['time_in_day'][i]=='18':\\n        y_pred_test_baseline[i] = baseline_by_forecast_time[3]\\n        \\ntest_error_baseline = np.array(y_test)-y_pred_test_baseline\""
      ]
     },
     "execution_count": 45,
     "metadata": {},
     "output_type": "execute_result"
    }
   ],
   "source": [
    "# Baseline forecasts modelling raw visibility observations\n",
    "baseline_by_forecast_time = []\n",
    "for i in ['00','06','12','18']:\n",
    "    baseline_by_forecast_time.append(np.quantile(df_baseline[df_baseline['time_in_day']==i]['vis_obs'], quantile_candidates))\n",
    "\n",
    "y_pred_test_baseline = []\n",
    "for i in range(0,len(y_test)):\n",
    "    if df_result_test['time_in_day'][i]=='00':\n",
    "        y_pred_test_baseline.append(baseline_by_forecast_time[0])\n",
    "    elif df_test['time_in_day'][i]=='06':\n",
    "        y_pred_test_baseline.append(baseline_by_forecast_time[1])\n",
    "    elif df_test['time_in_day'][i]=='12':\n",
    "        y_pred_test_baseline.append(baseline_by_forecast_time[2])\n",
    "    else:\n",
    "        y_pred_test_baseline.append(baseline_by_forecast_time[3])\n",
    "        \n",
    "y_pred_test_baseline = np.array(y_pred_test_baseline)\n",
    "                                \n",
    "# Baseline model modelling transformed visibility observations (uncomment if necessary)\n",
    "'''baseline_by_forecast_time = []\n",
    "for i in ['00','06','12','18']:\n",
    "    baseline_by_forecast_time.append(np.exp(np.mean(np.log(df_baseline[df_baseline['time_in_day']==i]['vis_obs']+0.00001))))\n",
    "\n",
    "y_pred_test_baseline = np.array([0]*len(y_test))\n",
    "for i in range(len(y_test)):\n",
    "    if df_test['time_in_day'][i]=='00':\n",
    "        y_pred_test_baseline[i] = baseline_by_forecast_time[0]\n",
    "    elif df_test['time_in_day'][i]=='06':\n",
    "        y_pred_test_baseline[i] = baseline_by_forecast_time[1]\n",
    "    elif df_test['time_in_day'][i]=='12':\n",
    "        y_pred_test_baseline[i] = baseline_by_forecast_time[2]\n",
    "    elif df_test['time_in_day'][i]=='18':\n",
    "        y_pred_test_baseline[i] = baseline_by_forecast_time[3]\n",
    "        \n",
    "test_error_baseline = np.array(y_test)-y_pred_test_baseline'''"
   ]
  },
  {
   "cell_type": "code",
   "execution_count": 28,
   "id": "d6a50c5b",
   "metadata": {},
   "outputs": [
    {
     "name": "stderr",
     "output_type": "stream",
     "text": [
      "<ipython-input-28-4760c72d1891>:4: SettingWithCopyWarning: \n",
      "A value is trying to be set on a copy of a slice from a DataFrame.\n",
      "Try using .loc[row_indexer,col_indexer] = value instead\n",
      "\n",
      "See the caveats in the documentation: https://pandas.pydata.org/pandas-docs/stable/user_guide/indexing.html#returning-a-view-versus-a-copy\n",
      "  df_result_test['vis_rf_'+str(q+1)] = y_pred_test_rf[:,q]\n"
     ]
    },
    {
     "data": {
      "text/html": [
       "<div>\n",
       "<style scoped>\n",
       "    .dataframe tbody tr th:only-of-type {\n",
       "        vertical-align: middle;\n",
       "    }\n",
       "\n",
       "    .dataframe tbody tr th {\n",
       "        vertical-align: top;\n",
       "    }\n",
       "\n",
       "    .dataframe thead th {\n",
       "        text-align: right;\n",
       "    }\n",
       "</style>\n",
       "<table border=\"1\" class=\"dataframe\">\n",
       "  <thead>\n",
       "    <tr style=\"text-align: right;\">\n",
       "      <th></th>\n",
       "      <th>base</th>\n",
       "      <th>lead_hr</th>\n",
       "      <th>forecast_time</th>\n",
       "      <th>time_in_day</th>\n",
       "      <th>vis_obs</th>\n",
       "      <th>vis_rf_1</th>\n",
       "      <th>vis_rf_2</th>\n",
       "      <th>vis_rf_3</th>\n",
       "      <th>vis_rf_4</th>\n",
       "      <th>vis_rf_5</th>\n",
       "      <th>...</th>\n",
       "      <th>vis_rf_42</th>\n",
       "      <th>vis_rf_43</th>\n",
       "      <th>vis_rf_44</th>\n",
       "      <th>vis_rf_45</th>\n",
       "      <th>vis_rf_46</th>\n",
       "      <th>vis_rf_47</th>\n",
       "      <th>vis_rf_48</th>\n",
       "      <th>vis_rf_49</th>\n",
       "      <th>vis_rf_50</th>\n",
       "      <th>vis_rf_51</th>\n",
       "    </tr>\n",
       "  </thead>\n",
       "  <tbody>\n",
       "    <tr>\n",
       "      <th>0</th>\n",
       "      <td>2018-01-01 00:00:00</td>\n",
       "      <td>6</td>\n",
       "      <td>2018-01-01 06:00:00</td>\n",
       "      <td>06</td>\n",
       "      <td>19000.0</td>\n",
       "      <td>8000.00</td>\n",
       "      <td>8000.000</td>\n",
       "      <td>8000.000</td>\n",
       "      <td>9000.00</td>\n",
       "      <td>9000.000</td>\n",
       "      <td>...</td>\n",
       "      <td>20000.000</td>\n",
       "      <td>20000.0</td>\n",
       "      <td>20000.000</td>\n",
       "      <td>20000.00</td>\n",
       "      <td>20000.00</td>\n",
       "      <td>21000.000</td>\n",
       "      <td>21000.0</td>\n",
       "      <td>25000.00</td>\n",
       "      <td>25000.0</td>\n",
       "      <td>25000.0</td>\n",
       "    </tr>\n",
       "    <tr>\n",
       "      <th>1</th>\n",
       "      <td>2018-01-02 00:00:00</td>\n",
       "      <td>6</td>\n",
       "      <td>2018-01-02 06:00:00</td>\n",
       "      <td>06</td>\n",
       "      <td>18000.0</td>\n",
       "      <td>4795.00</td>\n",
       "      <td>5000.000</td>\n",
       "      <td>6000.000</td>\n",
       "      <td>7000.00</td>\n",
       "      <td>8000.000</td>\n",
       "      <td>...</td>\n",
       "      <td>20000.000</td>\n",
       "      <td>20000.0</td>\n",
       "      <td>20000.000</td>\n",
       "      <td>20000.00</td>\n",
       "      <td>20000.00</td>\n",
       "      <td>20000.000</td>\n",
       "      <td>20000.0</td>\n",
       "      <td>22000.00</td>\n",
       "      <td>25000.0</td>\n",
       "      <td>25000.0</td>\n",
       "    </tr>\n",
       "    <tr>\n",
       "      <th>2</th>\n",
       "      <td>2018-01-03 00:00:00</td>\n",
       "      <td>6</td>\n",
       "      <td>2018-01-03 06:00:00</td>\n",
       "      <td>06</td>\n",
       "      <td>13000.0</td>\n",
       "      <td>5000.00</td>\n",
       "      <td>6000.000</td>\n",
       "      <td>6000.000</td>\n",
       "      <td>7000.00</td>\n",
       "      <td>8000.000</td>\n",
       "      <td>...</td>\n",
       "      <td>17000.000</td>\n",
       "      <td>18000.0</td>\n",
       "      <td>18000.000</td>\n",
       "      <td>19758.00</td>\n",
       "      <td>20000.00</td>\n",
       "      <td>20000.000</td>\n",
       "      <td>20000.0</td>\n",
       "      <td>20000.00</td>\n",
       "      <td>23000.0</td>\n",
       "      <td>25000.0</td>\n",
       "    </tr>\n",
       "    <tr>\n",
       "      <th>3</th>\n",
       "      <td>2018-01-04 00:00:00</td>\n",
       "      <td>6</td>\n",
       "      <td>2018-01-04 06:00:00</td>\n",
       "      <td>06</td>\n",
       "      <td>9000.0</td>\n",
       "      <td>5000.00</td>\n",
       "      <td>6000.000</td>\n",
       "      <td>7000.000</td>\n",
       "      <td>7096.00</td>\n",
       "      <td>8000.000</td>\n",
       "      <td>...</td>\n",
       "      <td>20000.000</td>\n",
       "      <td>20000.0</td>\n",
       "      <td>20000.000</td>\n",
       "      <td>20000.00</td>\n",
       "      <td>20000.00</td>\n",
       "      <td>20000.000</td>\n",
       "      <td>20000.0</td>\n",
       "      <td>20000.00</td>\n",
       "      <td>21000.0</td>\n",
       "      <td>25000.0</td>\n",
       "    </tr>\n",
       "    <tr>\n",
       "      <th>4</th>\n",
       "      <td>2018-01-05 00:00:00</td>\n",
       "      <td>6</td>\n",
       "      <td>2018-01-05 06:00:00</td>\n",
       "      <td>06</td>\n",
       "      <td>25000.0</td>\n",
       "      <td>8000.00</td>\n",
       "      <td>8332.000</td>\n",
       "      <td>9000.000</td>\n",
       "      <td>10000.00</td>\n",
       "      <td>10000.000</td>\n",
       "      <td>...</td>\n",
       "      <td>20000.000</td>\n",
       "      <td>20000.0</td>\n",
       "      <td>20000.000</td>\n",
       "      <td>20000.00</td>\n",
       "      <td>21000.00</td>\n",
       "      <td>21000.000</td>\n",
       "      <td>22000.0</td>\n",
       "      <td>24000.00</td>\n",
       "      <td>25000.0</td>\n",
       "      <td>25000.0</td>\n",
       "    </tr>\n",
       "    <tr>\n",
       "      <th>...</th>\n",
       "      <td>...</td>\n",
       "      <td>...</td>\n",
       "      <td>...</td>\n",
       "      <td>...</td>\n",
       "      <td>...</td>\n",
       "      <td>...</td>\n",
       "      <td>...</td>\n",
       "      <td>...</td>\n",
       "      <td>...</td>\n",
       "      <td>...</td>\n",
       "      <td>...</td>\n",
       "      <td>...</td>\n",
       "      <td>...</td>\n",
       "      <td>...</td>\n",
       "      <td>...</td>\n",
       "      <td>...</td>\n",
       "      <td>...</td>\n",
       "      <td>...</td>\n",
       "      <td>...</td>\n",
       "      <td>...</td>\n",
       "      <td>...</td>\n",
       "    </tr>\n",
       "    <tr>\n",
       "      <th>647203</th>\n",
       "      <td>2018-12-27</td>\n",
       "      <td>120</td>\n",
       "      <td>2019-01-01</td>\n",
       "      <td>00</td>\n",
       "      <td>6715.0</td>\n",
       "      <td>99.95</td>\n",
       "      <td>100.000</td>\n",
       "      <td>100.000</td>\n",
       "      <td>134.48</td>\n",
       "      <td>200.000</td>\n",
       "      <td>...</td>\n",
       "      <td>9000.000</td>\n",
       "      <td>10000.0</td>\n",
       "      <td>10000.000</td>\n",
       "      <td>10000.00</td>\n",
       "      <td>10140.00</td>\n",
       "      <td>12000.000</td>\n",
       "      <td>12000.0</td>\n",
       "      <td>14650.14</td>\n",
       "      <td>15000.0</td>\n",
       "      <td>17050.0</td>\n",
       "    </tr>\n",
       "    <tr>\n",
       "      <th>647204</th>\n",
       "      <td>2018-12-28</td>\n",
       "      <td>120</td>\n",
       "      <td>2019-01-02</td>\n",
       "      <td>00</td>\n",
       "      <td>15318.0</td>\n",
       "      <td>100.00</td>\n",
       "      <td>100.000</td>\n",
       "      <td>100.000</td>\n",
       "      <td>101.92</td>\n",
       "      <td>164.258</td>\n",
       "      <td>...</td>\n",
       "      <td>10000.000</td>\n",
       "      <td>10000.0</td>\n",
       "      <td>11679.264</td>\n",
       "      <td>12000.00</td>\n",
       "      <td>13000.00</td>\n",
       "      <td>15000.000</td>\n",
       "      <td>15000.0</td>\n",
       "      <td>18000.00</td>\n",
       "      <td>20000.0</td>\n",
       "      <td>25250.0</td>\n",
       "    </tr>\n",
       "    <tr>\n",
       "      <th>647205</th>\n",
       "      <td>2018-12-29</td>\n",
       "      <td>120</td>\n",
       "      <td>2019-01-03</td>\n",
       "      <td>00</td>\n",
       "      <td>33728.0</td>\n",
       "      <td>1190.00</td>\n",
       "      <td>1432.800</td>\n",
       "      <td>2328.400</td>\n",
       "      <td>2919.20</td>\n",
       "      <td>3447.800</td>\n",
       "      <td>...</td>\n",
       "      <td>20000.000</td>\n",
       "      <td>20000.0</td>\n",
       "      <td>23752.000</td>\n",
       "      <td>25000.00</td>\n",
       "      <td>25000.00</td>\n",
       "      <td>25180.128</td>\n",
       "      <td>30000.0</td>\n",
       "      <td>30000.00</td>\n",
       "      <td>30000.0</td>\n",
       "      <td>40000.0</td>\n",
       "    </tr>\n",
       "    <tr>\n",
       "      <th>647206</th>\n",
       "      <td>2018-12-30</td>\n",
       "      <td>120</td>\n",
       "      <td>2019-01-04</td>\n",
       "      <td>00</td>\n",
       "      <td>38492.0</td>\n",
       "      <td>300.00</td>\n",
       "      <td>700.000</td>\n",
       "      <td>871.400</td>\n",
       "      <td>1218.24</td>\n",
       "      <td>1895.600</td>\n",
       "      <td>...</td>\n",
       "      <td>19135.864</td>\n",
       "      <td>20000.0</td>\n",
       "      <td>20000.000</td>\n",
       "      <td>20000.00</td>\n",
       "      <td>20000.00</td>\n",
       "      <td>25000.000</td>\n",
       "      <td>25000.0</td>\n",
       "      <td>30000.00</td>\n",
       "      <td>30000.0</td>\n",
       "      <td>40000.0</td>\n",
       "    </tr>\n",
       "    <tr>\n",
       "      <th>647207</th>\n",
       "      <td>2018-12-31</td>\n",
       "      <td>120</td>\n",
       "      <td>2019-01-05</td>\n",
       "      <td>00</td>\n",
       "      <td>5180.0</td>\n",
       "      <td>278.40</td>\n",
       "      <td>340.548</td>\n",
       "      <td>574.832</td>\n",
       "      <td>1019.20</td>\n",
       "      <td>1700.000</td>\n",
       "      <td>...</td>\n",
       "      <td>15000.000</td>\n",
       "      <td>15000.0</td>\n",
       "      <td>15000.000</td>\n",
       "      <td>17755.58</td>\n",
       "      <td>19031.08</td>\n",
       "      <td>20000.000</td>\n",
       "      <td>20000.0</td>\n",
       "      <td>20000.00</td>\n",
       "      <td>25000.0</td>\n",
       "      <td>25000.0</td>\n",
       "    </tr>\n",
       "  </tbody>\n",
       "</table>\n",
       "<p>647208 rows × 56 columns</p>\n",
       "</div>"
      ],
      "text/plain": [
       "                       base  lead_hr        forecast_time time_in_day  \\\n",
       "0       2018-01-01 00:00:00        6  2018-01-01 06:00:00          06   \n",
       "1       2018-01-02 00:00:00        6  2018-01-02 06:00:00          06   \n",
       "2       2018-01-03 00:00:00        6  2018-01-03 06:00:00          06   \n",
       "3       2018-01-04 00:00:00        6  2018-01-04 06:00:00          06   \n",
       "4       2018-01-05 00:00:00        6  2018-01-05 06:00:00          06   \n",
       "...                     ...      ...                  ...         ...   \n",
       "647203           2018-12-27      120           2019-01-01          00   \n",
       "647204           2018-12-28      120           2019-01-02          00   \n",
       "647205           2018-12-29      120           2019-01-03          00   \n",
       "647206           2018-12-30      120           2019-01-04          00   \n",
       "647207           2018-12-31      120           2019-01-05          00   \n",
       "\n",
       "        vis_obs  vis_rf_1  vis_rf_2  vis_rf_3  vis_rf_4   vis_rf_5  ...  \\\n",
       "0       19000.0   8000.00  8000.000  8000.000   9000.00   9000.000  ...   \n",
       "1       18000.0   4795.00  5000.000  6000.000   7000.00   8000.000  ...   \n",
       "2       13000.0   5000.00  6000.000  6000.000   7000.00   8000.000  ...   \n",
       "3        9000.0   5000.00  6000.000  7000.000   7096.00   8000.000  ...   \n",
       "4       25000.0   8000.00  8332.000  9000.000  10000.00  10000.000  ...   \n",
       "...         ...       ...       ...       ...       ...        ...  ...   \n",
       "647203   6715.0     99.95   100.000   100.000    134.48    200.000  ...   \n",
       "647204  15318.0    100.00   100.000   100.000    101.92    164.258  ...   \n",
       "647205  33728.0   1190.00  1432.800  2328.400   2919.20   3447.800  ...   \n",
       "647206  38492.0    300.00   700.000   871.400   1218.24   1895.600  ...   \n",
       "647207   5180.0    278.40   340.548   574.832   1019.20   1700.000  ...   \n",
       "\n",
       "        vis_rf_42  vis_rf_43  vis_rf_44  vis_rf_45  vis_rf_46  vis_rf_47  \\\n",
       "0       20000.000    20000.0  20000.000   20000.00   20000.00  21000.000   \n",
       "1       20000.000    20000.0  20000.000   20000.00   20000.00  20000.000   \n",
       "2       17000.000    18000.0  18000.000   19758.00   20000.00  20000.000   \n",
       "3       20000.000    20000.0  20000.000   20000.00   20000.00  20000.000   \n",
       "4       20000.000    20000.0  20000.000   20000.00   21000.00  21000.000   \n",
       "...           ...        ...        ...        ...        ...        ...   \n",
       "647203   9000.000    10000.0  10000.000   10000.00   10140.00  12000.000   \n",
       "647204  10000.000    10000.0  11679.264   12000.00   13000.00  15000.000   \n",
       "647205  20000.000    20000.0  23752.000   25000.00   25000.00  25180.128   \n",
       "647206  19135.864    20000.0  20000.000   20000.00   20000.00  25000.000   \n",
       "647207  15000.000    15000.0  15000.000   17755.58   19031.08  20000.000   \n",
       "\n",
       "        vis_rf_48  vis_rf_49  vis_rf_50  vis_rf_51  \n",
       "0         21000.0   25000.00    25000.0    25000.0  \n",
       "1         20000.0   22000.00    25000.0    25000.0  \n",
       "2         20000.0   20000.00    23000.0    25000.0  \n",
       "3         20000.0   20000.00    21000.0    25000.0  \n",
       "4         22000.0   24000.00    25000.0    25000.0  \n",
       "...           ...        ...        ...        ...  \n",
       "647203    12000.0   14650.14    15000.0    17050.0  \n",
       "647204    15000.0   18000.00    20000.0    25250.0  \n",
       "647205    30000.0   30000.00    30000.0    40000.0  \n",
       "647206    25000.0   30000.00    30000.0    40000.0  \n",
       "647207    20000.0   20000.00    25000.0    25000.0  \n",
       "\n",
       "[647208 rows x 56 columns]"
      ]
     },
     "execution_count": 28,
     "metadata": {},
     "output_type": "execute_result"
    }
   ],
   "source": [
    "# Create a dataframe for storing test results\n",
    "df_result_test = df_test[['base', 'lead_hr', 'forecast_time', 'time_in_day', 'vis_obs']]\n",
    "for q in range(0, y_pred_test_rf.shape[1]):\n",
    "    df_result_test['vis_rf_'+str(q+1)] = y_pred_test_rf[:,q]\n",
    "for q in range(0, y_pred_test_rf.shape[1]):\n",
    "    df_result_test['baseline_'+str(q+1)] = y_pred_test_baseline[:,q]\n",
    "df_result_test"
   ]
  },
  {
   "cell_type": "code",
   "execution_count": 47,
   "id": "9fa38408",
   "metadata": {},
   "outputs": [],
   "source": [
    "df_result_test.to_csv(result_export_path + \"results_giant_20_300_quantile.csv\", index=False)\n",
    "# File format: results_giant_[max_depth]_[n_estimators]_[model variations: optional].csv"
   ]
  },
  {
   "cell_type": "code",
   "execution_count": null,
   "id": "e00a7920",
   "metadata": {},
   "outputs": [],
   "source": []
  }
 ],
 "metadata": {
  "kernelspec": {
   "display_name": "Python 3",
   "language": "python",
   "name": "python3"
  },
  "language_info": {
   "codemirror_mode": {
    "name": "ipython",
    "version": 3
   },
   "file_extension": ".py",
   "mimetype": "text/x-python",
   "name": "python",
   "nbconvert_exporter": "python",
   "pygments_lexer": "ipython3",
   "version": "3.8.8"
  }
 },
 "nbformat": 4,
 "nbformat_minor": 5
}
