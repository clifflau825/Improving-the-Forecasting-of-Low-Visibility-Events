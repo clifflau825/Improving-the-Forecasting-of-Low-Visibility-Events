{
 "cells": [
  {
   "cell_type": "markdown",
   "id": "c5672b11",
   "metadata": {},
   "source": [
    "This is a script for building models for post-processing NWP visibility forecasts to produce calibrated deterministic forecasts using random forest regression applying the lead-time-continuous approach."
   ]
  },
  {
   "cell_type": "code",
   "execution_count": 1,
   "id": "7a00bf96",
   "metadata": {},
   "outputs": [
    {
     "name": "stderr",
     "output_type": "stream",
     "text": [
      "/Users/clifflau/opt/anaconda3/lib/python3.8/site-packages/scipy/__init__.py:146: UserWarning: A NumPy version >=1.16.5 and <1.23.0 is required for this version of SciPy (detected version 1.24.4\n",
      "  warnings.warn(f\"A NumPy version >={np_minversion} and <{np_maxversion}\"\n"
     ]
    }
   ],
   "source": [
    "import pandas as pd\n",
    "import matplotlib.pyplot as plt\n",
    "from sklearn.ensemble import RandomForestRegressor\n",
    "import numpy as np\n",
    "import pickle\n",
    "import time"
   ]
  },
  {
   "cell_type": "code",
   "execution_count": 2,
   "id": "21ea67dc",
   "metadata": {},
   "outputs": [],
   "source": [
    "# Change paths for own use\n",
    "data_path = \"ROOT/preprocessed_data/\"\n",
    "model_export_path = \"ROOT/trained_models/lead_time_continuous/\"\n",
    "result_export_path = \"ROOT/test_results_df/lead_time_continuous/\""
   ]
  },
  {
   "cell_type": "code",
   "execution_count": 3,
   "id": "3b7eae1c",
   "metadata": {},
   "outputs": [],
   "source": [
    "df_train = pd.read_csv(data_path + \"df_training.csv\", dtype={'time_in_day':'category'})\n",
    "df_valid = pd.read_csv(data_path + \"df_valid.csv\", dtype={'time_in_day':'category'})\n",
    "df_test = pd.read_csv(data_path + \"df_test.csv\", dtype={'time_in_day':'category'})\n",
    "df_baseline = pd.read_csv(data_path + \"df_training_baseline.csv\", dtype={'time_in_day':'category'})"
   ]
  },
  {
   "cell_type": "code",
   "execution_count": 6,
   "id": "f86092dc",
   "metadata": {},
   "outputs": [
    {
     "data": {
      "text/plain": [
       "6150768"
      ]
     },
     "execution_count": 6,
     "metadata": {},
     "output_type": "execute_result"
    }
   ],
   "source": [
    "len(df_train)"
   ]
  },
  {
   "cell_type": "code",
   "execution_count": 4,
   "id": "32e784b1",
   "metadata": {},
   "outputs": [],
   "source": [
    "# Sample 10% of training records for faster training (comment out if necessary)\n",
    "df_train = df_train.sample(frac=0.1, random_state=1)"
   ]
  },
  {
   "cell_type": "code",
   "execution_count": 10,
   "id": "e3a390fd",
   "metadata": {
    "scrolled": false
   },
   "outputs": [],
   "source": [
    "# List of input features (using ensemble means and std for visibility foreasts)\n",
    "features = ['lead_hr', 'station_alt', 'dis_from_coast', 'time_in_day', 'day_in_year_sin', 'day_in_year_cos',\n",
    "                    't_ensemble_mean', 't_ensemble_std',\n",
    "                    'q_ensemble_mean', 'q_ensemble_std',\n",
    "                    'tp6_ensemble_mean', 'tp6_ensemble_std',\n",
    "                    'tcc_ensemble_mean', 'tcc_ensemble_std',\n",
    "                    'wind_ensemble_mean', 'wind_ensemble_std',\n",
    "                    'vis_ensemble_mean', 'vis_ensemble_std']\n",
    "\n",
    "# List of input features (using proportions of members forecasting each visibility index for visibility forecasts)\n",
    "# Uncomment if necessary\n",
    "'''\n",
    "features_prop = ['lead_hr', 'station_alt', 'dis_from_coast', 'time_in_day', 'day_in_year_sin', 'day_in_year_cos',\n",
    "                    't_ensemble_mean', 't_ensemble_std',\n",
    "                    'q_ensemble_mean', 'q_ensemble_std',\n",
    "                    'tp6_ensemble_mean', 'tp6_ensemble_std',\n",
    "                    'tcc_ensemble_mean', 'tcc_ensemble_std',\n",
    "                    'wind_ensemble_mean', 'wind_ensemble_std',\n",
    "                'member_prop_VP','member_prop_P','member_prop_M','member_prop_G','member_prop_VG', 'member_prop_E']\n",
    "'''\n",
    "\n",
    "x_train = df_train[features]\n",
    "y_train = df_train['vis_obs']\n",
    "#y_train = np.log(df_train['vis_obs']+0.00001) # Log transformation (uncomment for transformation of output)\n",
    "\n",
    "x_valid = df_valid[features]\n",
    "y_valid = df_valid['vis_obs']\n",
    "#y_valid = df_valid['vis_obs']+0.00001 # Log transformation (uncomment for transformation of output)\n",
    "\n",
    "x_test = df_test[features]\n",
    "y_test = df_test['vis_obs']\n",
    "#y_test = df_test['vis_obs']+0.00001 # Log transformation (uncomment for transformation of output)\n",
    "\n",
    "# One-hot encode categorical 'time_in_day'\n",
    "x_train = x_train.join(pd.get_dummies(x_train['time_in_day']))\n",
    "x_train = x_train.drop('time_in_day',axis=1)\n",
    "x_valid = x_valid.join(pd.get_dummies(x_valid['time_in_day']))\n",
    "x_valid = x_valid.drop('time_in_day',axis=1)\n",
    "x_test = x_test.join(pd.get_dummies(x_test['time_in_day']))\n",
    "x_test = x_test.drop('time_in_day',axis=1)"
   ]
  },
  {
   "cell_type": "code",
   "execution_count": 11,
   "id": "d2ea6bae",
   "metadata": {
    "scrolled": true
   },
   "outputs": [
    {
     "data": {
      "text/plain": [
       "((6150768, 21), (650999, 21), (647208, 21))"
      ]
     },
     "execution_count": 11,
     "metadata": {},
     "output_type": "execute_result"
    }
   ],
   "source": [
    "x_train.shape, x_valid.shape, x_test.shape"
   ]
  },
  {
   "cell_type": "code",
   "execution_count": 12,
   "id": "a77f5b72",
   "metadata": {},
   "outputs": [
    {
     "data": {
      "text/plain": [
       "Index(['lead_hr', 'station_alt', 'dis_from_coast', 'day_in_year_sin',\n",
       "       'day_in_year_cos', 't_ensemble_mean', 't_ensemble_std',\n",
       "       'q_ensemble_mean', 'q_ensemble_std', 'tp6_ensemble_mean',\n",
       "       'tp6_ensemble_std', 'tcc_ensemble_mean', 'tcc_ensemble_std',\n",
       "       'wind_ensemble_mean', 'wind_ensemble_std', 'vis_ensemble_mean',\n",
       "       'vis_ensemble_std', '06', '12', '18', '00'],\n",
       "      dtype='object')"
      ]
     },
     "execution_count": 12,
     "metadata": {},
     "output_type": "execute_result"
    }
   ],
   "source": [
    "x_train.columns"
   ]
  },
  {
   "cell_type": "code",
   "execution_count": 13,
   "id": "bb030742",
   "metadata": {},
   "outputs": [
    {
     "name": "stdout",
     "output_type": "stream",
     "text": [
      "Validation RMSE: 16711.517062070983 (execution time: 3928.592406988144 s)\n"
     ]
    }
   ],
   "source": [
    "st = time.time()\n",
    "\n",
    "rf = RandomForestRegressor(n_estimators=300, max_depth=20, random_state=18)\n",
    "rf.fit(x_train, y_train)\n",
    "\n",
    "# Save the model\n",
    "with open(model_export_path + 'giant_100_5_all_records.pkl.pkl','wb') as f:\n",
    "    pickle.dump(rf,f)\n",
    "\n",
    "y_pred_valid_rf = rf.predict(x_valid)\n",
    "#y_pred_valid_rf = np.exp(rf.predict(x_valid)) # Log transformation (uncomment for transformation of output)\n",
    "valid_error_rf = np.array(y_valid) - y_pred_valid_rf\n",
    "\n",
    "valid_rmse_rf = np.sqrt(np.mean(valid_error_rf**2))\n",
    "        \n",
    "et = time.time()\n",
    "elapsed_time = et - st\n",
    "\n",
    "print(\"Validation RMSE: %s (execution time: %s s)\"%(valid_rmse_rf, elapsed_time))"
   ]
  },
  {
   "cell_type": "code",
   "execution_count": 2,
   "id": "f2a55f4d",
   "metadata": {},
   "outputs": [],
   "source": [
    "# Run time record:\n",
    "# (n_estimators, max_depth, training size): validation RMSE, run time\n",
    "# (30,20,6M): 15226 m, 4001 s\n",
    "# (30,20,600k): 15435 m, 292 s\n",
    "# (60,20,600k): 15378 m, 618 s\n",
    "# (100,20,600k): 15358 m, 1747 s\n",
    "# (300,20,600k): 15333 m, 2884 s\n",
    "# (100,20,1.8M): 15274 m, 3572 s\n",
    "# (400,5,600K): 16754 m, 1493 s\n",
    "# (100,10,600K): 15726 m, 572 s\n",
    "# (200,10,600K): 15730 m, 1163 s\n",
    "# (300,10,600K): 15729 m, 2053 s\n",
    "# (100,15,600K): 15447 m, 1272 s\n",
    "# (200,15,600K): 15440 m, 4541 s\n",
    "# (200,20,600K): 15340 m, 3741 s"
   ]
  },
  {
   "cell_type": "code",
   "execution_count": 15,
   "id": "a5e232eb",
   "metadata": {},
   "outputs": [],
   "source": [
    "# Open previously trained model (uncomment if necessary)\n",
    "#with open(model_export_path + 'giant_300_20.pkl', 'rb') as f:\n",
    "    #rf = pickle.load(f)"
   ]
  },
  {
   "cell_type": "code",
   "execution_count": 14,
   "id": "b78cccc5",
   "metadata": {},
   "outputs": [
    {
     "data": {
      "text/plain": [
       "Text(0.5, 1.0, 'Features Importances from RF')"
      ]
     },
     "execution_count": 14,
     "metadata": {},
     "output_type": "execute_result"
    },
    {
     "data": {
      "image/png": "[encoded data removed]",
      "text/plain": [
       "<Figure size 1080x576 with 1 Axes>"
      ]
     },
     "metadata": {
      "needs_background": "light"
     },
     "output_type": "display_data"
    }
   ],
   "source": [
    "# Feature importance\n",
    "plt.figure(figsize=(15,8))\n",
    "importances = rf.feature_importances_\n",
    "features = x_train.columns\n",
    "indices = np.argsort(importances)\n",
    "plt.barh(np.arange(len(features)), importances[indices], height=0.5)\n",
    "plt.yticks(np.arange(len(features)), features[indices])\n",
    "plt.ylabel(\"Features\")\n",
    "plt.xlabel(\"Relative Importances\")\n",
    "plt.title(\"Features Importances from RF\")"
   ]
  },
  {
   "cell_type": "code",
   "execution_count": 15,
   "id": "e9f4a400",
   "metadata": {},
   "outputs": [],
   "source": [
    "# Test errors of NWP forecasts (before post-processing)\n",
    "test_error_forecast = np.array(y_test)-np.array(df_test['vis_ensemble_mean'])"
   ]
  },
  {
   "cell_type": "code",
   "execution_count": 16,
   "id": "5197ca3b",
   "metadata": {},
   "outputs": [],
   "source": [
    "# Test error of post-processed forecasts\n",
    "y_pred_test_rf = rf.predict(x_test)\n",
    "#y_pred_test_rf = np.exp(rf.predict(x_test)) # Log transformation (uncomment for transformation of output)\n",
    "test_error_rf = np.array(y_test)-y_pred_test_rf"
   ]
  },
  {
   "cell_type": "code",
   "execution_count": 17,
   "id": "2fea5f43",
   "metadata": {},
   "outputs": [
    {
     "data": {
      "text/plain": [
       "\"baseline_by_forecast_time = []\\nfor i in ['00','06','12','18']:\\n    baseline_by_forecast_time.append(np.exp(np.mean(np.log(df_baseline[df_baseline['time_in_day']==i]['vis_obs']+0.00001))))\\n\\ny_pred_test_baseline = np.array([0]*len(y_test))\\nfor i in range(len(y_test)):\\n    if df_test['time_in_day'][i]=='00':\\n        y_pred_test_baseline[i] = baseline_by_forecast_time[0]\\n    elif df_test['time_in_day'][i]=='06':\\n        y_pred_test_baseline[i] = baseline_by_forecast_time[1]\\n    elif df_test['time_in_day'][i]=='12':\\n        y_pred_test_baseline[i] = baseline_by_forecast_time[2]\\n    elif df_test['time_in_day'][i]=='18':\\n        y_pred_test_baseline[i] = baseline_by_forecast_time[3]\\n        \\ntest_error_baseline = np.array(y_test)-y_pred_test_baseline\""
      ]
     },
     "execution_count": 17,
     "metadata": {},
     "output_type": "execute_result"
    }
   ],
   "source": [
    "# Baseline forecasts modelling raw visibility observations\n",
    "baseline_by_forecast_time = []\n",
    "for i in ['00','06','12','18']:\n",
    "    baseline_by_forecast_time.append(np.mean(df_baseline[df_baseline['time_in_day']==i]['vis_obs']))\n",
    "\n",
    "y_pred_test_baseline = np.array([0]*len(y_test))\n",
    "for i in range(len(y_test)):\n",
    "    if df_test['time_in_day'][i]=='00':\n",
    "        y_pred_test_baseline[i] = baseline_by_forecast_time[0]\n",
    "    elif df_test['time_in_day'][i]=='06':\n",
    "        y_pred_test_baseline[i] = baseline_by_forecast_time[1]\n",
    "    elif df_test['time_in_day'][i]=='12':\n",
    "        y_pred_test_baseline[i] = baseline_by_forecast_time[2]\n",
    "    elif df_test['time_in_day'][i]=='18':\n",
    "        y_pred_test_baseline[i] = baseline_by_forecast_time[3]\n",
    "\n",
    "test_error_baseline = np.array(y_test)-y_pred_test_baseline\n",
    "\n",
    "# Baseline model modelling transformed visibility observations (uncomment if necessary)\n",
    "'''baseline_by_forecast_time = []\n",
    "for i in ['00','06','12','18']:\n",
    "    baseline_by_forecast_time.append(np.exp(np.mean(np.log(df_baseline[df_baseline['time_in_day']==i]['vis_obs']+0.00001))))\n",
    "\n",
    "y_pred_test_baseline = np.array([0]*len(y_test))\n",
    "for i in range(len(y_test)):\n",
    "    if df_test['time_in_day'][i]=='00':\n",
    "        y_pred_test_baseline[i] = baseline_by_forecast_time[0]\n",
    "    elif df_test['time_in_day'][i]=='06':\n",
    "        y_pred_test_baseline[i] = baseline_by_forecast_time[1]\n",
    "    elif df_test['time_in_day'][i]=='12':\n",
    "        y_pred_test_baseline[i] = baseline_by_forecast_time[2]\n",
    "    elif df_test['time_in_day'][i]=='18':\n",
    "        y_pred_test_baseline[i] = baseline_by_forecast_time[3]\n",
    "        \n",
    "test_error_baseline = np.array(y_test)-y_pred_test_baseline'''"
   ]
  },
  {
   "cell_type": "code",
   "execution_count": 18,
   "id": "d6a50c5b",
   "metadata": {},
   "outputs": [
    {
     "name": "stderr",
     "output_type": "stream",
     "text": [
      "<ipython-input-18-ed4539532d01>:3: SettingWithCopyWarning: \n",
      "A value is trying to be set on a copy of a slice from a DataFrame.\n",
      "Try using .loc[row_indexer,col_indexer] = value instead\n",
      "\n",
      "See the caveats in the documentation: https://pandas.pydata.org/pandas-docs/stable/user_guide/indexing.html#returning-a-view-versus-a-copy\n",
      "  df_result_test['vis_rf'] = y_pred_test_rf\n",
      "<ipython-input-18-ed4539532d01>:4: SettingWithCopyWarning: \n",
      "A value is trying to be set on a copy of a slice from a DataFrame.\n",
      "Try using .loc[row_indexer,col_indexer] = value instead\n",
      "\n",
      "See the caveats in the documentation: https://pandas.pydata.org/pandas-docs/stable/user_guide/indexing.html#returning-a-view-versus-a-copy\n",
      "  df_result_test['vis_baseline'] = y_pred_test_baseline\n",
      "<ipython-input-18-ed4539532d01>:5: SettingWithCopyWarning: \n",
      "A value is trying to be set on a copy of a slice from a DataFrame.\n",
      "Try using .loc[row_indexer,col_indexer] = value instead\n",
      "\n",
      "See the caveats in the documentation: https://pandas.pydata.org/pandas-docs/stable/user_guide/indexing.html#returning-a-view-versus-a-copy\n",
      "  df_result_test['error_baseline'] = test_error_baseline\n",
      "<ipython-input-18-ed4539532d01>:6: SettingWithCopyWarning: \n",
      "A value is trying to be set on a copy of a slice from a DataFrame.\n",
      "Try using .loc[row_indexer,col_indexer] = value instead\n",
      "\n",
      "See the caveats in the documentation: https://pandas.pydata.org/pandas-docs/stable/user_guide/indexing.html#returning-a-view-versus-a-copy\n",
      "  df_result_test['error_nwp'] = test_error_forecast\n",
      "<ipython-input-18-ed4539532d01>:7: SettingWithCopyWarning: \n",
      "A value is trying to be set on a copy of a slice from a DataFrame.\n",
      "Try using .loc[row_indexer,col_indexer] = value instead\n",
      "\n",
      "See the caveats in the documentation: https://pandas.pydata.org/pandas-docs/stable/user_guide/indexing.html#returning-a-view-versus-a-copy\n",
      "  df_result_test['error_rf'] = test_error_rf\n"
     ]
    }
   ],
   "source": [
    "# Create a dataframe for storing test results\n",
    "df_result_test = df_test[['base', 'lead_hr', 'forecast_time', 'time_in_day', 'vis_obs', 'vis_ensemble_mean']]\n",
    "df_result_test['vis_rf'] = y_pred_test_rf\n",
    "df_result_test['vis_baseline'] = y_pred_test_baseline\n",
    "df_result_test['error_baseline'] = test_error_baseline\n",
    "df_result_test['error_nwp'] = test_error_forecast\n",
    "df_result_test['error_rf'] = test_error_rf\n",
    "df_result_test.to_csv(result_export_path + \"results_5_100_all_records.csv\", index=False)\n",
    "# File format: results_[max_depth]_[n_estimators]_[model variations: optional].csv"
   ]
  },
  {
   "cell_type": "code",
   "execution_count": null,
   "id": "f8486187",
   "metadata": {},
   "outputs": [],
   "source": []
  }
 ],
 "metadata": {
  "kernelspec": {
   "display_name": "Python 3",
   "language": "python",
   "name": "python3"
  },
  "language_info": {
   "codemirror_mode": {
    "name": "ipython",
    "version": 3
   },
   "file_extension": ".py",
   "mimetype": "text/x-python",
   "name": "python",
   "nbconvert_exporter": "python",
   "pygments_lexer": "ipython3",
   "version": "3.8.8"
  }
 },
 "nbformat": 4,
 "nbformat_minor": 5
}
