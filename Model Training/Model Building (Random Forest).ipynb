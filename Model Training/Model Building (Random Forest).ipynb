{
 "cells": [
  {
   "cell_type": "markdown",
   "id": "c5672b11",
   "metadata": {},
   "source": [
    "This is a script for building a NWP visibility forecast post-processing model using Random Forest."
   ]
  },
  {
   "cell_type": "code",
   "execution_count": 20,
   "id": "7a00bf96",
   "metadata": {},
   "outputs": [],
   "source": [
    "import pandas as pd\n",
    "import matplotlib.pyplot as plt\n",
    "from sklearn.ensemble import RandomForestRegressor\n",
    "import numpy as np\n",
    "import pickle\n",
    "import time"
   ]
  },
  {
   "cell_type": "code",
   "execution_count": null,
   "id": "21ea67dc",
   "metadata": {},
   "outputs": [],
   "source": [
    "data_path = \"./\"\n",
    "export_path = \"./\""
   ]
  },
  {
   "cell_type": "code",
   "execution_count": 21,
   "id": "e3a390fd",
   "metadata": {
    "scrolled": false
   },
   "outputs": [
    {
     "name": "stdout",
     "output_type": "stream",
     "text": [
      "(7461350, 12)\n",
      "(683512, 12)\n",
      "(679514, 12)\n"
     ]
    }
   ],
   "source": [
    "df_train = pd.read_csv(data_path + \"df_training.csv\")\n",
    "#df_train[(df_train.vis_obs>100000) | (df_train.vis_forecast>100000)]\n",
    "#df_train = df_train.drop(df_train[(df_train.vis_obs>100000) | (df_train.vis_forecast>100000)].index)\n",
    "#print(\"Original dimension:\")\n",
    "#print(df_train.shape)\n",
    "#df_train = df_train.sample(frac=0.05)\n",
    "#df_train = df_train.reset_index()\n",
    "#print(\"Sample dimension:\")\n",
    "print(df_train.shape)\n",
    "\n",
    "df_valid = pd.read_csv(data_path + \"df_valid.csv\")\n",
    "#df_valid[(df_valid.vis_obs>100000) | (df_valid.vis_forecast>100000)]\n",
    "#print(\"Original dimension:\")\n",
    "#print(df_valid.shape)\n",
    "#df_test = df_valid.sample(frac=0.015)\n",
    "#df_valid = df_valid.reset_index()\n",
    "#print(\"Sample dimension:\")\n",
    "print(df_valid.shape)\n",
    "\n",
    "df_test = pd.read_csv(data_path + \"df_test.csv\")\n",
    "#df_test[(df_test.vis_obs>100000) | (df_test.vis_forecast>100000)]\n",
    "#df_test = df_test.drop(df_test[(df_test.vis_forecast_obs>100000) | (df_test.vis_forecast>100000)].index)\n",
    "#print(\"Original dimension:\")\n",
    "#print(df_test.shape)\n",
    "#df_test = df_test.sample(frac=0.015)\n",
    "#df_test = df_test.reset_index()\n",
    "#print(\"Sample dimension:\")\n",
    "print(df_test.shape)\n",
    "\n",
    "x_train = df_train[['station_alt', 't_forecast', 'vis_forecast']]\n",
    "y_train = df_train['vis_obs']\n",
    "\n",
    "x_valid = df_valid[['station_alt', 't_forecast', 'vis_forecast']]\n",
    "y_valid = df_valid['vis_obs']\n",
    "\n",
    "x_test = df_test[['station_alt', 't_forecast', 'vis_forecast']]\n",
    "y_test = df_test['vis_obs']"
   ]
  },
  {
   "cell_type": "code",
   "execution_count": null,
   "id": "8c447fc4",
   "metadata": {
    "scrolled": false
   },
   "outputs": [],
   "source": [
    "# Model training\n",
    "for i in [10,20,30]: # try different n_estimators\n",
    "    for j in [10,20,30]: # try different max_depth\n",
    "\n",
    "        st = time.time()\n",
    "\n",
    "        rf = RandomForestRegressor(n_estimators=i, max_depth=j, random_state=18)\n",
    "        rf.fit(x_train, y_train)\n",
    "        \n",
    "        with open('rf_nestimators%s_maxdepth%s.pkl'%(i,j),'wb') as f:\n",
    "            pickle.dump(rf,f)\n",
    "\n",
    "        y_pred_valid_rf = rf.predict(x_test)\n",
    "        valid_error_rf = np.array(y_test['vis_reforecast_obs']) - y_pred_valid_rf\n",
    "\n",
    "        valid_rmse_rf = np.sqrt(np.mean(valid_error_rf**2))\n",
    "        \n",
    "        et = time.time()\n",
    "        elapsed_time = et - st\n",
    "\n",
    "        print(\"Validation RMSE for n_estimators=%s and max_depth=%s: %s (execution time: %s s)\"%(i,j,valid_rmse_rf,elapsed_time))"
   ]
  },
  {
   "cell_type": "code",
   "execution_count": 22,
   "id": "a5e232eb",
   "metadata": {},
   "outputs": [],
   "source": [
    "# Open previously trained model\n",
    "with open('/rf_nestimators30_maxdepth20.pkl', 'rb') as f:\n",
    "    rf = pickle.load(f)"
   ]
  },
  {
   "cell_type": "code",
   "execution_count": 23,
   "id": "6cb0deec",
   "metadata": {},
   "outputs": [
    {
     "data": {
      "text/plain": [
       "Text(0.5, 1.0, 'Feature Importances from Random Forest Regressor')"
      ]
     },
     "execution_count": 23,
     "metadata": {},
     "output_type": "execute_result"
    },
    {
     "data": {
      "image/png": "[encoded data removed]",
      "text/plain": [
       "<Figure size 432x288 with 1 Axes>"
      ]
     },
     "metadata": {
      "needs_background": "light"
     },
     "output_type": "display_data"
    }
   ],
   "source": [
    "# Feature importance\n",
    "importances = rf.feature_importances_\n",
    "plt.barh(np.arange(3), importances, height=0.5)\n",
    "plt.yticks(np.arange(3), ['Station Altitude','Air Temperature','Visibility Forecast'])\n",
    "plt.ylabel(\"Features\")\n",
    "plt.xlabel(\"Relative Importances\")\n",
    "plt.title(\"Feature Importances from Random Forest Regressor\")"
   ]
  },
  {
   "cell_type": "code",
   "execution_count": 24,
   "id": "e9f4a400",
   "metadata": {},
   "outputs": [],
   "source": [
    "# NWP forecasts (before post-processing)\n",
    "test_error_forecast = np.array(y_test)-np.array(df_test['vis_forecast'])"
   ]
  },
  {
   "cell_type": "code",
   "execution_count": 25,
   "id": "5197ca3b",
   "metadata": {},
   "outputs": [],
   "source": [
    "# Post-processed forecasts\n",
    "y_pred_test_rf = rf.predict(x_test)\n",
    "test_error_rf = np.array(y_test)-y_pred_test_rf"
   ]
  },
  {
   "cell_type": "code",
   "execution_count": 27,
   "id": "2fea5f43",
   "metadata": {},
   "outputs": [],
   "source": [
    "# Baseline model\n",
    "baseline_by_forecast_time = []\n",
    "for i in [0,6,12,18]:\n",
    "    baseline_by_forecast_time.append(np.mean(df_train[df_train['time_in_day']==i]['vis_forecast']))\n",
    "\n",
    "y_pred_test_baseline = np.array([0]*len(y_test))\n",
    "for i in range(len(y_test)):\n",
    "    if df_test['time_in_day'][i]==0:\n",
    "        y_pred_test_baseline[i] = baseline_by_forecast_time[0]\n",
    "    elif df_test['time_in_day'][i]==6:\n",
    "        y_pred_test_baseline[i] = baseline_by_forecast_time[1]\n",
    "    elif df_test['time_in_day'][i]==12:\n",
    "        y_pred_test_baseline[i] = baseline_by_forecast_time[2]\n",
    "    elif df_test['time_in_day'][i]==18:\n",
    "        y_pred_test_baseline[i] = baseline_by_forecast_time[3]\n",
    "        \n",
    "test_error_baseline = np.array(y_test)-y_pred_test_baseline"
   ]
  },
  {
   "cell_type": "code",
   "execution_count": 28,
   "id": "d6a50c5b",
   "metadata": {},
   "outputs": [
    {
     "data": {
      "text/plain": [
       "0        -19153.0\n",
       "1         -7153.0\n",
       "2        -22153.0\n",
       "3        -17153.0\n",
       "4        -10153.0\n",
       "           ...   \n",
       "679509   -20438.0\n",
       "679510   -11835.0\n",
       "679511     6575.0\n",
       "679512    11339.0\n",
       "679513   -21973.0\n",
       "Name: error_baseline, Length: 679514, dtype: float64"
      ]
     },
     "execution_count": 28,
     "metadata": {},
     "output_type": "execute_result"
    }
   ],
   "source": [
    "# Create a dataframe for storing test results\n",
    "df_result_test = df_test\n",
    "df_result_test['vis_rf'] = y_pred_test_rf\n",
    "df_result_test['vis_baseline'] = y_pred_test_baseline\n",
    "df_result_test['error_forecast'] = test_error_forecast\n",
    "df_result_test['error_rf'] = test_error_rf\n",
    "df_result_test['error_baseline'] = test_error_baseline"
   ]
  },
  {
   "cell_type": "code",
   "execution_count": 29,
   "id": "163b4263",
   "metadata": {},
   "outputs": [],
   "source": [
    "df_result_test.to_csv(export_path + \"df_result_test.csv\")"
   ]
  },
  {
   "cell_type": "code",
   "execution_count": null,
   "id": "28c4cc98",
   "metadata": {},
   "outputs": [],
   "source": []
  }
 ],
 "metadata": {
  "kernelspec": {
   "display_name": "Python 3",
   "language": "python",
   "name": "python3"
  },
  "language_info": {
   "codemirror_mode": {
    "name": "ipython",
    "version": 3
   },
   "file_extension": ".py",
   "mimetype": "text/x-python",
   "name": "python",
   "nbconvert_exporter": "python",
   "pygments_lexer": "ipython3",
   "version": "3.8.8"
  }
 },
 "nbformat": 4,
 "nbformat_minor": 5
}
